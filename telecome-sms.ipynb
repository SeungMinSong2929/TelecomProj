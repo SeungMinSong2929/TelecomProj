{
 "cells": [
  {
   "cell_type": "code",
   "execution_count": 1,
   "metadata": {
    "_cell_guid": "b1076dfc-b9ad-4769-8c92-a6c4dae69d19",
    "_uuid": "8f2839f25d086af736a60e9eeb907d3b93b6e0e5",
    "execution": {
     "iopub.execute_input": "2021-05-28T14:46:32.780738Z",
     "iopub.status.busy": "2021-05-28T14:46:32.780037Z",
     "iopub.status.idle": "2021-05-28T14:46:32.792495Z",
     "shell.execute_reply": "2021-05-28T14:46:32.793299Z",
     "shell.execute_reply.started": "2021-05-28T13:40:28.573077Z"
    },
    "papermill": {
     "duration": 0.054697,
     "end_time": "2021-05-28T14:46:32.793736",
     "exception": false,
     "start_time": "2021-05-28T14:46:32.739039",
     "status": "completed"
    },
    "tags": []
   },
   "outputs": [],
   "source": [
    "# This Python 3 environment comes with many helpful analytics libraries installed\n",
    "# It is defined by the kaggle/python Docker image: https://github.com/kaggle/docker-python\n",
    "# For example, here's several helpful packages to load\n",
    "\n",
    "import numpy as np # linear algebra\n",
    "import pandas as pd # data processing, CSV file I/O (e.g. pd.read_csv)\n",
    "\n",
    "# Input data files are available in the read-only \"../input/\" directory\n",
    "# For example, running this (by clicking run or pressing Shift+Enter) will list all files under the input directory\n",
    "\n",
    "import os\n",
    "for dirname, _, filenames in os.walk('/kaggle/input'):\n",
    "    for filename in filenames:\n",
    "        print(os.path.join(dirname, filename))\n",
    "\n",
    "# You can write up to 20GB to the current directory (/kaggle/working/) that gets preserved as output when you create a version using \"Save & Run All\" \n",
    "# You can also write temporary files to /kaggle/temp/, but they won't be saved outside of the current session"
   ]
  },
  {
   "cell_type": "markdown",
   "metadata": {
    "papermill": {
     "duration": 0.027041,
     "end_time": "2021-05-28T14:46:32.848910",
     "exception": false,
     "start_time": "2021-05-28T14:46:32.821869",
     "status": "completed"
    },
    "tags": []
   },
   "source": [
    "### 데이터 불러오기 "
   ]
  },
  {
   "cell_type": "code",
   "execution_count": 2,
   "metadata": {
    "execution": {
     "iopub.execute_input": "2021-05-28T14:46:32.907088Z",
     "iopub.status.busy": "2021-05-28T14:46:32.906348Z",
     "iopub.status.idle": "2021-05-28T14:46:33.022849Z",
     "shell.execute_reply": "2021-05-28T14:46:33.023372Z",
     "shell.execute_reply.started": "2021-05-28T13:43:59.759386Z"
    },
    "papermill": {
     "duration": 0.14809,
     "end_time": "2021-05-28T14:46:33.023544",
     "exception": false,
     "start_time": "2021-05-28T14:46:32.875454",
     "status": "completed"
    },
    "tags": []
   },
   "outputs": [
    {
     "data": {
      "text/html": [
       "<div>\n",
       "<style scoped>\n",
       "    .dataframe tbody tr th:only-of-type {\n",
       "        vertical-align: middle;\n",
       "    }\n",
       "\n",
       "    .dataframe tbody tr th {\n",
       "        vertical-align: top;\n",
       "    }\n",
       "\n",
       "    .dataframe thead th {\n",
       "        text-align: right;\n",
       "    }\n",
       "</style>\n",
       "<table border=\"1\" class=\"dataframe\">\n",
       "  <thead>\n",
       "    <tr style=\"text-align: right;\">\n",
       "      <th></th>\n",
       "      <th>customerID</th>\n",
       "      <th>gender</th>\n",
       "      <th>SeniorCitizen</th>\n",
       "      <th>Partner</th>\n",
       "      <th>Dependents</th>\n",
       "      <th>tenure</th>\n",
       "      <th>PhoneService</th>\n",
       "      <th>MultipleLines</th>\n",
       "      <th>InternetService</th>\n",
       "      <th>OnlineSecurity</th>\n",
       "      <th>...</th>\n",
       "      <th>DeviceProtection</th>\n",
       "      <th>TechSupport</th>\n",
       "      <th>StreamingTV</th>\n",
       "      <th>StreamingMovies</th>\n",
       "      <th>Contract</th>\n",
       "      <th>PaperlessBilling</th>\n",
       "      <th>PaymentMethod</th>\n",
       "      <th>MonthlyCharges</th>\n",
       "      <th>TotalCharges</th>\n",
       "      <th>Churn</th>\n",
       "    </tr>\n",
       "  </thead>\n",
       "  <tbody>\n",
       "    <tr>\n",
       "      <th>1869</th>\n",
       "      <td>7010-BRBUU</td>\n",
       "      <td>Male</td>\n",
       "      <td>0</td>\n",
       "      <td>Yes</td>\n",
       "      <td>Yes</td>\n",
       "      <td>72</td>\n",
       "      <td>Yes</td>\n",
       "      <td>Yes</td>\n",
       "      <td>No</td>\n",
       "      <td>No internet service</td>\n",
       "      <td>...</td>\n",
       "      <td>No internet service</td>\n",
       "      <td>No internet service</td>\n",
       "      <td>No internet service</td>\n",
       "      <td>No internet service</td>\n",
       "      <td>Two year</td>\n",
       "      <td>No</td>\n",
       "      <td>Credit card (automatic)</td>\n",
       "      <td>24.10</td>\n",
       "      <td>1734.65</td>\n",
       "      <td>No</td>\n",
       "    </tr>\n",
       "    <tr>\n",
       "      <th>4528</th>\n",
       "      <td>9688-YGXVR</td>\n",
       "      <td>Female</td>\n",
       "      <td>0</td>\n",
       "      <td>No</td>\n",
       "      <td>No</td>\n",
       "      <td>44</td>\n",
       "      <td>Yes</td>\n",
       "      <td>No</td>\n",
       "      <td>Fiber optic</td>\n",
       "      <td>No</td>\n",
       "      <td>...</td>\n",
       "      <td>Yes</td>\n",
       "      <td>No</td>\n",
       "      <td>Yes</td>\n",
       "      <td>No</td>\n",
       "      <td>Month-to-month</td>\n",
       "      <td>Yes</td>\n",
       "      <td>Credit card (automatic)</td>\n",
       "      <td>88.15</td>\n",
       "      <td>3973.2</td>\n",
       "      <td>No</td>\n",
       "    </tr>\n",
       "    <tr>\n",
       "      <th>6344</th>\n",
       "      <td>9286-DOJGF</td>\n",
       "      <td>Female</td>\n",
       "      <td>1</td>\n",
       "      <td>Yes</td>\n",
       "      <td>No</td>\n",
       "      <td>38</td>\n",
       "      <td>Yes</td>\n",
       "      <td>Yes</td>\n",
       "      <td>Fiber optic</td>\n",
       "      <td>No</td>\n",
       "      <td>...</td>\n",
       "      <td>No</td>\n",
       "      <td>No</td>\n",
       "      <td>No</td>\n",
       "      <td>No</td>\n",
       "      <td>Month-to-month</td>\n",
       "      <td>Yes</td>\n",
       "      <td>Bank transfer (automatic)</td>\n",
       "      <td>74.95</td>\n",
       "      <td>2869.85</td>\n",
       "      <td>Yes</td>\n",
       "    </tr>\n",
       "    <tr>\n",
       "      <th>6739</th>\n",
       "      <td>6994-KERXL</td>\n",
       "      <td>Male</td>\n",
       "      <td>0</td>\n",
       "      <td>No</td>\n",
       "      <td>No</td>\n",
       "      <td>4</td>\n",
       "      <td>Yes</td>\n",
       "      <td>No</td>\n",
       "      <td>DSL</td>\n",
       "      <td>No</td>\n",
       "      <td>...</td>\n",
       "      <td>No</td>\n",
       "      <td>No</td>\n",
       "      <td>No</td>\n",
       "      <td>Yes</td>\n",
       "      <td>Month-to-month</td>\n",
       "      <td>Yes</td>\n",
       "      <td>Electronic check</td>\n",
       "      <td>55.90</td>\n",
       "      <td>238.5</td>\n",
       "      <td>No</td>\n",
       "    </tr>\n",
       "    <tr>\n",
       "      <th>432</th>\n",
       "      <td>2181-UAESM</td>\n",
       "      <td>Male</td>\n",
       "      <td>0</td>\n",
       "      <td>No</td>\n",
       "      <td>No</td>\n",
       "      <td>2</td>\n",
       "      <td>Yes</td>\n",
       "      <td>No</td>\n",
       "      <td>DSL</td>\n",
       "      <td>Yes</td>\n",
       "      <td>...</td>\n",
       "      <td>Yes</td>\n",
       "      <td>No</td>\n",
       "      <td>No</td>\n",
       "      <td>No</td>\n",
       "      <td>Month-to-month</td>\n",
       "      <td>No</td>\n",
       "      <td>Electronic check</td>\n",
       "      <td>53.45</td>\n",
       "      <td>119.5</td>\n",
       "      <td>No</td>\n",
       "    </tr>\n",
       "  </tbody>\n",
       "</table>\n",
       "<p>5 rows × 21 columns</p>\n",
       "</div>"
      ],
      "text/plain": [
       "      customerID  gender  SeniorCitizen Partner Dependents  tenure  \\\n",
       "1869  7010-BRBUU    Male              0     Yes        Yes      72   \n",
       "4528  9688-YGXVR  Female              0      No         No      44   \n",
       "6344  9286-DOJGF  Female              1     Yes         No      38   \n",
       "6739  6994-KERXL    Male              0      No         No       4   \n",
       "432   2181-UAESM    Male              0      No         No       2   \n",
       "\n",
       "     PhoneService MultipleLines InternetService       OnlineSecurity  ...  \\\n",
       "1869          Yes           Yes              No  No internet service  ...   \n",
       "4528          Yes            No     Fiber optic                   No  ...   \n",
       "6344          Yes           Yes     Fiber optic                   No  ...   \n",
       "6739          Yes            No             DSL                   No  ...   \n",
       "432           Yes            No             DSL                  Yes  ...   \n",
       "\n",
       "         DeviceProtection          TechSupport          StreamingTV  \\\n",
       "1869  No internet service  No internet service  No internet service   \n",
       "4528                  Yes                   No                  Yes   \n",
       "6344                   No                   No                   No   \n",
       "6739                   No                   No                   No   \n",
       "432                   Yes                   No                   No   \n",
       "\n",
       "          StreamingMovies        Contract PaperlessBilling  \\\n",
       "1869  No internet service        Two year               No   \n",
       "4528                   No  Month-to-month              Yes   \n",
       "6344                   No  Month-to-month              Yes   \n",
       "6739                  Yes  Month-to-month              Yes   \n",
       "432                    No  Month-to-month               No   \n",
       "\n",
       "                  PaymentMethod MonthlyCharges  TotalCharges Churn  \n",
       "1869    Credit card (automatic)          24.10       1734.65    No  \n",
       "4528    Credit card (automatic)          88.15        3973.2    No  \n",
       "6344  Bank transfer (automatic)          74.95       2869.85   Yes  \n",
       "6739           Electronic check          55.90         238.5    No  \n",
       "432            Electronic check          53.45         119.5    No  \n",
       "\n",
       "[5 rows x 21 columns]"
      ]
     },
     "execution_count": 2,
     "metadata": {},
     "output_type": "execute_result"
    }
   ],
   "source": [
    "# 제일 왼쪽 열 index 설정. index_col 파라미터 사용\n",
    "tel = pd.read_csv('./telecom_users.csv', index_col=0)\n",
    "tel.head()"
   ]
  },
  {
   "cell_type": "markdown",
   "metadata": {
    "papermill": {
     "duration": 0.026341,
     "end_time": "2021-05-28T14:46:33.077182",
     "exception": false,
     "start_time": "2021-05-28T14:46:33.050841",
     "status": "completed"
    },
    "tags": []
   },
   "source": [
    "### 데이터 구성 파악하기"
   ]
  },
  {
   "cell_type": "code",
   "execution_count": 3,
   "metadata": {
    "execution": {
     "iopub.execute_input": "2021-05-28T14:46:33.136026Z",
     "iopub.status.busy": "2021-05-28T14:46:33.135230Z",
     "iopub.status.idle": "2021-05-28T14:46:33.139524Z",
     "shell.execute_reply": "2021-05-28T14:46:33.138892Z",
     "shell.execute_reply.started": "2021-05-28T13:44:03.595487Z"
    },
    "papermill": {
     "duration": 0.035855,
     "end_time": "2021-05-28T14:46:33.139683",
     "exception": false,
     "start_time": "2021-05-28T14:46:33.103828",
     "status": "completed"
    },
    "tags": []
   },
   "outputs": [
    {
     "data": {
      "text/plain": [
       "(5986, 21)"
      ]
     },
     "execution_count": 3,
     "metadata": {},
     "output_type": "execute_result"
    }
   ],
   "source": [
    "# tel 데이터셋 크기 \n",
    "tel.shape"
   ]
  },
  {
   "cell_type": "code",
   "execution_count": 4,
   "metadata": {
    "execution": {
     "iopub.execute_input": "2021-05-28T14:46:33.196999Z",
     "iopub.status.busy": "2021-05-28T14:46:33.196264Z",
     "iopub.status.idle": "2021-05-28T14:46:33.229414Z",
     "shell.execute_reply": "2021-05-28T14:46:33.229965Z",
     "shell.execute_reply.started": "2021-05-28T13:44:07.434791Z"
    },
    "papermill": {
     "duration": 0.063658,
     "end_time": "2021-05-28T14:46:33.230161",
     "exception": false,
     "start_time": "2021-05-28T14:46:33.166503",
     "status": "completed"
    },
    "tags": []
   },
   "outputs": [
    {
     "name": "stdout",
     "output_type": "stream",
     "text": [
      "<class 'pandas.core.frame.DataFrame'>\n",
      "Int64Index: 5986 entries, 1869 to 860\n",
      "Data columns (total 21 columns):\n",
      " #   Column            Non-Null Count  Dtype  \n",
      "---  ------            --------------  -----  \n",
      " 0   customerID        5986 non-null   object \n",
      " 1   gender            5986 non-null   object \n",
      " 2   SeniorCitizen     5986 non-null   int64  \n",
      " 3   Partner           5986 non-null   object \n",
      " 4   Dependents        5986 non-null   object \n",
      " 5   tenure            5986 non-null   int64  \n",
      " 6   PhoneService      5986 non-null   object \n",
      " 7   MultipleLines     5986 non-null   object \n",
      " 8   InternetService   5986 non-null   object \n",
      " 9   OnlineSecurity    5986 non-null   object \n",
      " 10  OnlineBackup      5986 non-null   object \n",
      " 11  DeviceProtection  5986 non-null   object \n",
      " 12  TechSupport       5986 non-null   object \n",
      " 13  StreamingTV       5986 non-null   object \n",
      " 14  StreamingMovies   5986 non-null   object \n",
      " 15  Contract          5986 non-null   object \n",
      " 16  PaperlessBilling  5986 non-null   object \n",
      " 17  PaymentMethod     5986 non-null   object \n",
      " 18  MonthlyCharges    5986 non-null   float64\n",
      " 19  TotalCharges      5986 non-null   object \n",
      " 20  Churn             5986 non-null   object \n",
      "dtypes: float64(1), int64(2), object(18)\n",
      "memory usage: 1.0+ MB\n"
     ]
    }
   ],
   "source": [
    "tel.info()"
   ]
  },
  {
   "cell_type": "code",
   "execution_count": 5,
   "metadata": {
    "execution": {
     "iopub.execute_input": "2021-05-28T14:46:33.292797Z",
     "iopub.status.busy": "2021-05-28T14:46:33.292073Z",
     "iopub.status.idle": "2021-05-28T14:46:33.310812Z",
     "shell.execute_reply": "2021-05-28T14:46:33.311412Z",
     "shell.execute_reply.started": "2021-05-28T13:44:18.861214Z"
    },
    "papermill": {
     "duration": 0.054039,
     "end_time": "2021-05-28T14:46:33.311590",
     "exception": false,
     "start_time": "2021-05-28T14:46:33.257551",
     "status": "completed"
    },
    "tags": []
   },
   "outputs": [
    {
     "data": {
      "text/html": [
       "<div>\n",
       "<style scoped>\n",
       "    .dataframe tbody tr th:only-of-type {\n",
       "        vertical-align: middle;\n",
       "    }\n",
       "\n",
       "    .dataframe tbody tr th {\n",
       "        vertical-align: top;\n",
       "    }\n",
       "\n",
       "    .dataframe thead th {\n",
       "        text-align: right;\n",
       "    }\n",
       "</style>\n",
       "<table border=\"1\" class=\"dataframe\">\n",
       "  <thead>\n",
       "    <tr style=\"text-align: right;\">\n",
       "      <th></th>\n",
       "      <th>SeniorCitizen</th>\n",
       "      <th>tenure</th>\n",
       "      <th>MonthlyCharges</th>\n",
       "    </tr>\n",
       "  </thead>\n",
       "  <tbody>\n",
       "    <tr>\n",
       "      <th>count</th>\n",
       "      <td>5986.000000</td>\n",
       "      <td>5986.000000</td>\n",
       "      <td>5986.000000</td>\n",
       "    </tr>\n",
       "    <tr>\n",
       "      <th>mean</th>\n",
       "      <td>0.161377</td>\n",
       "      <td>32.468760</td>\n",
       "      <td>64.802213</td>\n",
       "    </tr>\n",
       "    <tr>\n",
       "      <th>std</th>\n",
       "      <td>0.367909</td>\n",
       "      <td>24.516391</td>\n",
       "      <td>30.114702</td>\n",
       "    </tr>\n",
       "    <tr>\n",
       "      <th>min</th>\n",
       "      <td>0.000000</td>\n",
       "      <td>0.000000</td>\n",
       "      <td>18.250000</td>\n",
       "    </tr>\n",
       "    <tr>\n",
       "      <th>25%</th>\n",
       "      <td>0.000000</td>\n",
       "      <td>9.000000</td>\n",
       "      <td>35.650000</td>\n",
       "    </tr>\n",
       "    <tr>\n",
       "      <th>50%</th>\n",
       "      <td>0.000000</td>\n",
       "      <td>29.000000</td>\n",
       "      <td>70.400000</td>\n",
       "    </tr>\n",
       "    <tr>\n",
       "      <th>75%</th>\n",
       "      <td>0.000000</td>\n",
       "      <td>56.000000</td>\n",
       "      <td>89.900000</td>\n",
       "    </tr>\n",
       "    <tr>\n",
       "      <th>max</th>\n",
       "      <td>1.000000</td>\n",
       "      <td>72.000000</td>\n",
       "      <td>118.750000</td>\n",
       "    </tr>\n",
       "  </tbody>\n",
       "</table>\n",
       "</div>"
      ],
      "text/plain": [
       "       SeniorCitizen       tenure  MonthlyCharges\n",
       "count    5986.000000  5986.000000     5986.000000\n",
       "mean        0.161377    32.468760       64.802213\n",
       "std         0.367909    24.516391       30.114702\n",
       "min         0.000000     0.000000       18.250000\n",
       "25%         0.000000     9.000000       35.650000\n",
       "50%         0.000000    29.000000       70.400000\n",
       "75%         0.000000    56.000000       89.900000\n",
       "max         1.000000    72.000000      118.750000"
      ]
     },
     "execution_count": 5,
     "metadata": {},
     "output_type": "execute_result"
    }
   ],
   "source": [
    "tel.describe()"
   ]
  },
  {
   "cell_type": "markdown",
   "metadata": {
    "papermill": {
     "duration": 0.027932,
     "end_time": "2021-05-28T14:46:33.494218",
     "exception": false,
     "start_time": "2021-05-28T14:46:33.466286",
     "status": "completed"
    },
    "tags": []
   },
   "source": [
    "### 데이터 전처리하기"
   ]
  },
  {
   "cell_type": "markdown",
   "metadata": {
    "papermill": {
     "duration": 0.028323,
     "end_time": "2021-05-28T14:46:33.551214",
     "exception": false,
     "start_time": "2021-05-28T14:46:33.522891",
     "status": "completed"
    },
    "tags": []
   },
   "source": [
    "* SeniorCitizen 칼럼값들 int -> str 형변환"
   ]
  },
  {
   "cell_type": "code",
   "execution_count": 6,
   "metadata": {
    "execution": {
     "iopub.execute_input": "2021-05-28T14:46:33.611309Z",
     "iopub.status.busy": "2021-05-28T14:46:33.610652Z",
     "iopub.status.idle": "2021-05-28T14:46:33.648234Z",
     "shell.execute_reply": "2021-05-28T14:46:33.648725Z",
     "shell.execute_reply.started": "2021-05-28T14:27:45.120911Z"
    },
    "papermill": {
     "duration": 0.069357,
     "end_time": "2021-05-28T14:46:33.648903",
     "exception": false,
     "start_time": "2021-05-28T14:46:33.579546",
     "status": "completed"
    },
    "tags": []
   },
   "outputs": [
    {
     "name": "stdout",
     "output_type": "stream",
     "text": [
      "<class 'pandas.core.frame.DataFrame'>\n",
      "Int64Index: 5986 entries, 1869 to 860\n",
      "Data columns (total 21 columns):\n",
      " #   Column            Non-Null Count  Dtype  \n",
      "---  ------            --------------  -----  \n",
      " 0   customerID        5986 non-null   object \n",
      " 1   gender            5986 non-null   object \n",
      " 2   SeniorCitizen     5986 non-null   object \n",
      " 3   Partner           5986 non-null   object \n",
      " 4   Dependents        5986 non-null   object \n",
      " 5   tenure            5986 non-null   int64  \n",
      " 6   PhoneService      5986 non-null   object \n",
      " 7   MultipleLines     5986 non-null   object \n",
      " 8   InternetService   5986 non-null   object \n",
      " 9   OnlineSecurity    5986 non-null   object \n",
      " 10  OnlineBackup      5986 non-null   object \n",
      " 11  DeviceProtection  5986 non-null   object \n",
      " 12  TechSupport       5986 non-null   object \n",
      " 13  StreamingTV       5986 non-null   object \n",
      " 14  StreamingMovies   5986 non-null   object \n",
      " 15  Contract          5986 non-null   object \n",
      " 16  PaperlessBilling  5986 non-null   object \n",
      " 17  PaymentMethod     5986 non-null   object \n",
      " 18  MonthlyCharges    5986 non-null   float64\n",
      " 19  TotalCharges      5986 non-null   object \n",
      " 20  Churn             5986 non-null   object \n",
      "dtypes: float64(1), int64(1), object(19)\n",
      "memory usage: 1.0+ MB\n"
     ]
    }
   ],
   "source": [
    "df = tel.copy()\n",
    "df = df.astype({'SeniorCitizen': str})\n",
    "df.info()"
   ]
  },
  {
   "cell_type": "code",
   "execution_count": 7,
   "metadata": {
    "execution": {
     "iopub.execute_input": "2021-05-28T14:46:33.710917Z",
     "iopub.status.busy": "2021-05-28T14:46:33.709908Z",
     "iopub.status.idle": "2021-05-28T14:46:33.718673Z",
     "shell.execute_reply": "2021-05-28T14:46:33.718149Z",
     "shell.execute_reply.started": "2021-05-28T14:27:48.500121Z"
    },
    "papermill": {
     "duration": 0.041004,
     "end_time": "2021-05-28T14:46:33.718823",
     "exception": false,
     "start_time": "2021-05-28T14:46:33.677819",
     "status": "completed"
    },
    "tags": []
   },
   "outputs": [
    {
     "data": {
      "text/plain": [
       "['customerID',\n",
       " 'gender',\n",
       " 'SeniorCitizen',\n",
       " 'Partner',\n",
       " 'Dependents',\n",
       " 'PhoneService',\n",
       " 'MultipleLines',\n",
       " 'InternetService',\n",
       " 'OnlineSecurity',\n",
       " 'OnlineBackup',\n",
       " 'DeviceProtection',\n",
       " 'TechSupport',\n",
       " 'StreamingTV',\n",
       " 'StreamingMovies',\n",
       " 'Contract',\n",
       " 'PaperlessBilling',\n",
       " 'PaymentMethod',\n",
       " 'TotalCharges',\n",
       " 'Churn']"
      ]
     },
     "execution_count": 7,
     "metadata": {},
     "output_type": "execute_result"
    }
   ],
   "source": [
    "# 자료형이 object인 칼럼들만 추출 \n",
    "cols = list(df.columns)\n",
    "\n",
    "ObjCols = []\n",
    "for i in cols:\n",
    "    if df[i].dtype == object:\n",
    "        ObjCols.append(i)\n",
    "        \n",
    "ObjCols"
   ]
  },
  {
   "cell_type": "code",
   "execution_count": 8,
   "metadata": {
    "execution": {
     "iopub.execute_input": "2021-05-28T14:46:33.783065Z",
     "iopub.status.busy": "2021-05-28T14:46:33.782059Z",
     "iopub.status.idle": "2021-05-28T14:46:33.804123Z",
     "shell.execute_reply": "2021-05-28T14:46:33.803111Z",
     "shell.execute_reply.started": "2021-05-28T14:27:50.551171Z"
    },
    "papermill": {
     "duration": 0.056333,
     "end_time": "2021-05-28T14:46:33.804341",
     "exception": false,
     "start_time": "2021-05-28T14:46:33.748008",
     "status": "completed"
    },
    "tags": []
   },
   "outputs": [
    {
     "name": "stdout",
     "output_type": "stream",
     "text": [
      "customerID\n",
      "['7010-BRBUU' '9688-YGXVR' '9286-DOJGF' ... '8044-BGWPI' '7450-NWRTR'\n",
      " '4795-UXVCJ']\n",
      "\n",
      "gender\n",
      "['Male' 'Female']\n",
      "\n",
      "SeniorCitizen\n",
      "['0' '1']\n",
      "\n",
      "Partner\n",
      "['Yes' 'No']\n",
      "\n",
      "Dependents\n",
      "['Yes' 'No']\n",
      "\n",
      "PhoneService\n",
      "['Yes' 'No']\n",
      "\n",
      "MultipleLines\n",
      "['Yes' 'No' 'No phone service']\n",
      "\n",
      "InternetService\n",
      "['No' 'Fiber optic' 'DSL']\n",
      "\n",
      "OnlineSecurity\n",
      "['No internet service' 'No' 'Yes']\n",
      "\n",
      "OnlineBackup\n",
      "['No internet service' 'Yes' 'No']\n",
      "\n",
      "DeviceProtection\n",
      "['No internet service' 'Yes' 'No']\n",
      "\n",
      "TechSupport\n",
      "['No internet service' 'No' 'Yes']\n",
      "\n",
      "StreamingTV\n",
      "['No internet service' 'Yes' 'No']\n",
      "\n",
      "StreamingMovies\n",
      "['No internet service' 'No' 'Yes']\n",
      "\n",
      "Contract\n",
      "['Two year' 'Month-to-month' 'One year']\n",
      "\n",
      "PaperlessBilling\n",
      "['No' 'Yes']\n",
      "\n",
      "PaymentMethod\n",
      "['Credit card (automatic)' 'Bank transfer (automatic)' 'Electronic check'\n",
      " 'Mailed check']\n",
      "\n",
      "TotalCharges\n",
      "['1734.65' '3973.2' '2869.85' ... '306.05' '1200.15' '457.3']\n",
      "\n",
      "Churn\n",
      "['No' 'Yes']\n",
      "\n"
     ]
    }
   ],
   "source": [
    "# 자료형이 object인 칼럼들의 unique value 파악하기\n",
    "for i in ObjCols:\n",
    "    print(i)\n",
    "    print(df[i].unique())\n",
    "    print()"
   ]
  },
  {
   "cell_type": "markdown",
   "metadata": {
    "papermill": {
     "duration": 0.029414,
     "end_time": "2021-05-28T14:46:33.864662",
     "exception": false,
     "start_time": "2021-05-28T14:46:33.835248",
     "status": "completed"
    },
    "tags": []
   },
   "source": [
    "* Contract 칼럼 데이터 간소하게 아래와 같이 변경\n",
    "```\n",
    "'Two year' -> TY\n",
    "'Month-to-month' -> MM\n",
    "'One year' -> OY\n",
    "```"
   ]
  },
  {
   "cell_type": "code",
   "execution_count": 9,
   "metadata": {
    "execution": {
     "iopub.execute_input": "2021-05-28T14:46:33.934223Z",
     "iopub.status.busy": "2021-05-28T14:46:33.929206Z",
     "iopub.status.idle": "2021-05-28T14:46:33.939018Z",
     "shell.execute_reply": "2021-05-28T14:46:33.938436Z",
     "shell.execute_reply.started": "2021-05-28T14:38:18.339277Z"
    },
    "papermill": {
     "duration": 0.044781,
     "end_time": "2021-05-28T14:46:33.939168",
     "exception": false,
     "start_time": "2021-05-28T14:46:33.894387",
     "status": "completed"
    },
    "tags": []
   },
   "outputs": [
    {
     "data": {
      "text/plain": [
       "array(['TY', 'MM', 'OY'], dtype=object)"
      ]
     },
     "execution_count": 9,
     "metadata": {},
     "output_type": "execute_result"
    }
   ],
   "source": [
    "df['Contract'] = df['Contract'].replace('Two year', 'TY')\n",
    "df['Contract'] = df['Contract'].replace('Month-to-month', 'MM')\n",
    "df['Contract'] = df['Contract'].replace('One year', 'OY')\n",
    "df['Contract'].unique()"
   ]
  },
  {
   "cell_type": "markdown",
   "metadata": {
    "papermill": {
     "duration": 0.028979,
     "end_time": "2021-05-28T14:46:33.997838",
     "exception": false,
     "start_time": "2021-05-28T14:46:33.968859",
     "status": "completed"
    },
    "tags": []
   },
   "source": [
    "* PaymentMethod 칼럼 데이터 간소하게 아래와 같이 변경 \n",
    "```\n",
    "'Credit card (automatic)' -> CC\n",
    "'Bank transfer (automatic)' -> BT\n",
    "'Electronic check' -> EC\n",
    "'Mailed check' -> MC\n",
    "```"
   ]
  },
  {
   "cell_type": "code",
   "execution_count": 10,
   "metadata": {
    "execution": {
     "iopub.execute_input": "2021-05-28T14:46:34.071318Z",
     "iopub.status.busy": "2021-05-28T14:46:34.070275Z",
     "iopub.status.idle": "2021-05-28T14:46:34.075192Z",
     "shell.execute_reply": "2021-05-28T14:46:34.074613Z",
     "shell.execute_reply.started": "2021-05-28T14:33:57.458689Z"
    },
    "papermill": {
     "duration": 0.048206,
     "end_time": "2021-05-28T14:46:34.075335",
     "exception": false,
     "start_time": "2021-05-28T14:46:34.027129",
     "status": "completed"
    },
    "tags": []
   },
   "outputs": [
    {
     "data": {
      "text/plain": [
       "array(['CC', 'BT', 'EC', 'MC'], dtype=object)"
      ]
     },
     "execution_count": 10,
     "metadata": {},
     "output_type": "execute_result"
    }
   ],
   "source": [
    "df['PaymentMethod'] = df['PaymentMethod'].replace('Credit card (automatic)', 'CC')\n",
    "df['PaymentMethod'] = df['PaymentMethod'].replace('Bank transfer (automatic)', 'BT')\n",
    "df['PaymentMethod'] = df['PaymentMethod'].replace('Electronic check', 'EC')\n",
    "df['PaymentMethod'] = df['PaymentMethod'].replace('Mailed check', 'MC')\n",
    "df['PaymentMethod'].unique()"
   ]
  },
  {
   "cell_type": "markdown",
   "metadata": {},
   "source": [
    "### distplot, histplot, barplot, pairplot 등으로 데이터 분포 확인\n",
    "* https://www.kaggle.com/guptakush/telecommunication-data-analysis 참고"
   ]
  },
  {
   "cell_type": "code",
   "execution_count": 11,
   "metadata": {},
   "outputs": [],
   "source": [
    "import seaborn as sns\n",
    "import matplotlib as mpl\n",
    "import matplotlib.pyplot as plt"
   ]
  },
  {
   "cell_type": "markdown",
   "metadata": {},
   "source": [
    "### 성별 데이터 분석\n",
    "* 남자 51%와 여자 49프로로 구성되어있다. "
   ]
  },
  {
   "cell_type": "code",
   "execution_count": 12,
   "metadata": {},
   "outputs": [
    {
     "data": {
      "image/png": "[encoded data removed]",
      "text/plain": [
       "<Figure size 576x432 with 1 Axes>"
      ]
     },
     "metadata": {},
     "output_type": "display_data"
    }
   ],
   "source": [
    "gender=df[\"gender\"].value_counts()\n",
    "plt.figure(figsize=(8,6))\n",
    "plot=gender.plot.pie(autopct=\"%1.0f%%\")\n",
    "plt.show()"
   ]
  },
  {
   "cell_type": "markdown",
   "metadata": {},
   "source": [
    "### 결혼 여부 분석\n",
    "* 기혼 미혼 여부의 차이는 크지 않다 \n",
    "* 그러나 미혼자가 기혼자보다 178명 더 많다."
   ]
  },
  {
   "cell_type": "code",
   "execution_count": 13,
   "metadata": {},
   "outputs": [
    {
     "data": {
      "image/png": "[encoded data removed]",
      "text/plain": [
       "<Figure size 432x288 with 1 Axes>"
      ]
     },
     "metadata": {
      "needs_background": "light"
     },
     "output_type": "display_data"
    }
   ],
   "source": [
    "married=df['Partner'].value_counts()\n",
    "plt.title('married or not')\n",
    "plt.ylabel('count')\n",
    "sns.barplot(x=married.index,y=married.values)\n",
    "plt.show()"
   ]
  },
  {
   "cell_type": "markdown",
   "metadata": {},
   "source": [
    "### 사용연수 분석\n",
    "*가입한지 얼마 되지 않은 회원의 수와 가입한지 70개월 이상된 회원이 압도적으로 많다. \n",
    "*충성도가 높거나 낮음이 극단적으로 차이남."
   ]
  },
  {
   "cell_type": "code",
   "execution_count": 14,
   "metadata": {},
   "outputs": [
    {
     "name": "stderr",
     "output_type": "stream",
     "text": [
      "/Users/seungsoolee/opt/anaconda3/lib/python3.8/site-packages/seaborn/distributions.py:2557: FutureWarning: `distplot` is a deprecated function and will be removed in a future version. Please adapt your code to use either `displot` (a figure-level function with similar flexibility) or `histplot` (an axes-level function for histograms).\n",
      "  warnings.warn(msg, FutureWarning)\n"
     ]
    },
    {
     "data": {
      "image/png": "[encoded data removed]",
      "text/plain": [
       "<Figure size 720x576 with 1 Axes>"
      ]
     },
     "metadata": {
      "needs_background": "light"
     },
     "output_type": "display_data"
    }
   ],
   "source": [
    "tenure = df['tenure']\n",
    "plt.figure(figsize=(10,8))\n",
    "sns.distplot(tenure, bins=50, hist=True)\n",
    "plt.xticks(list(range(0,tenure.max(),5)))\n",
    "#plt.yticks(list(range(0,550,50)))\n",
    "plt.title('tenure count')\n",
    "plt.show()"
   ]
  },
  {
   "cell_type": "markdown",
   "metadata": {},
   "source": [
    "### 핸드폰 개통 손님 분석\n",
    "* 해당 통신사 휴대폰 서비스를 이용하는 고객이 이용하지 않는 고객보다 월등히 많다. "
   ]
  },
  {
   "cell_type": "code",
   "execution_count": 15,
   "metadata": {},
   "outputs": [
    {
     "data": {
      "image/png": "[encoded data removed]",
      "text/plain": [
       "<Figure size 720x576 with 1 Axes>"
      ]
     },
     "metadata": {
      "needs_background": "light"
     },
     "output_type": "display_data"
    }
   ],
   "source": [
    "phone_services=df['PhoneService'].value_counts()\n",
    "plt.figure(figsize=(10,8))\n",
    "sns.barplot(x=phone_services.index,y=phone_services.values)\n",
    "plt.ylabel('count',size=20)\n",
    "plt.title('customers using phone',size=20)\n",
    "plt.show()"
   ]
  },
  {
   "cell_type": "markdown",
   "metadata": {},
   "source": [
    "### 고객 계약 데이터 분석\n",
    "* 달 단위의 계약을 하는 고객이 연단위 혹은 2년단위로 계약하는 고객보다 월등히 많다. \n",
    "* 달 단위 계약 고객은 이탈가능성이 높다. \n",
    "* 2년 계약 고객 수 와 1년단위 계약을 진행한 고객의 합보다 달 단위 계약자 수가 552명 더 많다. "
   ]
  },
  {
   "cell_type": "code",
   "execution_count": 16,
   "metadata": {},
   "outputs": [
    {
     "data": {
      "image/png": "[encoded data removed]",
      "text/plain": [
       "<Figure size 720x576 with 1 Axes>"
      ]
     },
     "metadata": {
      "needs_background": "light"
     },
     "output_type": "display_data"
    }
   ],
   "source": [
    "contract=df['Contract'].value_counts()\n",
    "plt.figure(figsize=(10,8))\n",
    "sns.barplot(y=contract.values,x=contract.index)\n",
    "plt.title('contracts',size=20)\n",
    "plt.xticks([0,1,2],['Month-to-month','Two Year','One year'])\n",
    "plt.ylabel('count')\n",
    "plt.show()"
   ]
  },
  {
   "cell_type": "code",
   "execution_count": 17,
   "metadata": {},
   "outputs": [
    {
     "name": "stdout",
     "output_type": "stream",
     "text": [
      "달 단위 계약자 수 에서 2년 계약 고객 수 와 1년단위 계약을 진행한 고객의 합을 뺀 결과 : 552 명\n"
     ]
    }
   ],
   "source": [
    "print('달 단위 계약자 수 에서 2년 계약 고객 수 와 1년단위 계약을 진행한 고객의 합을 뺀 결과 :',\n",
    "      df[df['Contract'] == 'MM'].customerID.count()-(df[df['Contract'] == 'TY'].\n",
    "                                                     customerID.count()+df[df['Contract'] == 'OY'].customerID.count()),'명')"
   ]
  },
  {
   "cell_type": "markdown",
   "metadata": {},
   "source": [
    "### paperless billing을 사용하는 고객의 수 데이터 분석\n",
    "* paperless billing을 이용하는 고객수가 이용하지 않는 고객 수 보다 많다\n",
    "* 환경을 생각하는 고객이 더 많은 사실을 확인 할 수 있다. "
   ]
  },
  {
   "cell_type": "code",
   "execution_count": 18,
   "metadata": {},
   "outputs": [
    {
     "data": {
      "image/png": "[encoded data removed]",
      "text/plain": [
       "<Figure size 576x432 with 1 Axes>"
      ]
     },
     "metadata": {
      "needs_background": "light"
     },
     "output_type": "display_data"
    }
   ],
   "source": [
    "billing=df['PaperlessBilling'].value_counts()\n",
    "plt.figure(figsize=(8,6))\n",
    "sns.barplot(x=billing.index,y=billing.values)\n",
    "plt.title('Paperless Biling',size=20)\n",
    "plt.show()"
   ]
  },
  {
   "cell_type": "markdown",
   "metadata": {},
   "source": [
    "### 결제수단 데이터 분석\n",
    "* 결제수단으로 전자수표를 이용하는 고객이 가장 많다.\n",
    "* 나머지 우편수표, 계좌이체, 신용카드를 결제수단으로 이용하는 고객의 수는 비슷하다. "
   ]
  },
  {
   "cell_type": "code",
   "execution_count": 19,
   "metadata": {},
   "outputs": [
    {
     "data": {
      "image/png": "[encoded data removed]",
      "text/plain": [
       "<Figure size 720x576 with 1 Axes>"
      ]
     },
     "metadata": {
      "needs_background": "light"
     },
     "output_type": "display_data"
    }
   ],
   "source": [
    "pmt=df['PaymentMethod'].value_counts()\n",
    "plt.figure(figsize=(10,8))\n",
    "sns.barplot(x=pmt.index,y=pmt.values)\n",
    "plt.title('payment method',size=20)\n",
    "plt.ylabel('count',size=20)\n",
    "plt.xticks([0,1,2,3],['Electronic check','Mailed check',\n",
    "                      'Bank transfer(automatic)','Credit card(automatic)'])\n",
    "plt.show()"
   ]
  },
  {
   "cell_type": "markdown",
   "metadata": {},
   "source": [
    "### 고객 사용금액 데이터 분석\n",
    "* 20불 어치의 서비스를 이용하는 고객이 가장 많은 사실을 확인 할 수 있다. "
   ]
  },
  {
   "cell_type": "code",
   "execution_count": 20,
   "metadata": {},
   "outputs": [
    {
     "name": "stderr",
     "output_type": "stream",
     "text": [
      "/Users/seungsoolee/opt/anaconda3/lib/python3.8/site-packages/seaborn/distributions.py:2557: FutureWarning: `distplot` is a deprecated function and will be removed in a future version. Please adapt your code to use either `displot` (a figure-level function with similar flexibility) or `histplot` (an axes-level function for histograms).\n",
      "  warnings.warn(msg, FutureWarning)\n"
     ]
    },
    {
     "data": {
      "image/png": "[encoded data removed]",
      "text/plain": [
       "<Figure size 720x576 with 1 Axes>"
      ]
     },
     "metadata": {
      "needs_background": "light"
     },
     "output_type": "display_data"
    }
   ],
   "source": [
    "charges=df['MonthlyCharges']\n",
    "plt.figure(figsize=(10,8))\n",
    "sns.distplot(charges)\n",
    "plt.title('Monthly payment date')\n",
    "plt.show()"
   ]
  },
  {
   "cell_type": "markdown",
   "metadata": {
    "papermill": {
     "duration": 0.029631,
     "end_time": "2021-05-28T14:46:34.194684",
     "exception": false,
     "start_time": "2021-05-28T14:46:34.165053",
     "status": "completed"
    },
    "tags": []
   },
   "source": [
    "## 정의한 문제 해결하기"
   ]
  },
  {
   "cell_type": "markdown",
   "metadata": {
    "papermill": {
     "duration": 0.029422,
     "end_time": "2021-05-28T14:46:34.254125",
     "exception": false,
     "start_time": "2021-05-28T14:46:34.224703",
     "status": "completed"
    },
    "tags": []
   },
   "source": [
    "### 문제 1-4 해결하기\n",
    "* df1~df4 사용"
   ]
  },
  {
   "cell_type": "markdown",
   "metadata": {},
   "source": [
    "#### 문제 1 3 년 이상 이용한 충성고객 Tenure >= 36) 이 한달 동안 지불하는 금액은 얼마인가\n",
    "* 충성고객 이 지불하는 고정적인 비용 을 분석 및 통신사 수입에 얼마나 많은 영향을\n",
    "미치는지 분석해 충성고객에 대한 royalty program 개편여부 결정에 도움.\n",
    "* 지불금액이 높을수록 더 값싼 통신사를 찾게 되므로 지불금액이 높을수록 충성도가\n",
    "낮아질 것으로 보임.\n",
    "\n",
    "#### 문제 1 결과\n",
    "* tenure의 수가 다양해 sum보다는 mean으로 plot을 만드는 것이 정확한 결과를 도출이 가능하다고 판단\n",
    "* 예상과는 달리 지불금액이 높을 수록 통신사에 대한 충성도가 더 높은 trend를 보여주고 있다. "
   ]
  },
  {
   "cell_type": "code",
   "execution_count": 21,
   "metadata": {},
   "outputs": [],
   "source": [
    "df1 = df[df['tenure'] >= 36]"
   ]
  },
  {
   "cell_type": "markdown",
   "metadata": {},
   "source": [
    "tenure 수가 다양해서 sum보단 mean으로 plot을 만드는것이 정확한 결과 도출 가능"
   ]
  },
  {
   "cell_type": "code",
   "execution_count": 22,
   "metadata": {},
   "outputs": [
    {
     "data": {
      "image/png": "[encoded data removed]",
      "text/plain": [
       "<Figure size 1080x720 with 1 Axes>"
      ]
     },
     "metadata": {
      "needs_background": "light"
     },
     "output_type": "display_data"
    }
   ],
   "source": [
    "plt.figure(figsize = (15,10))\n",
    "sns.countplot(x = 'tenure',data = df1)\n",
    "plt.title('count number of tenure')\n",
    "plt.show()"
   ]
  },
  {
   "cell_type": "code",
   "execution_count": 23,
   "metadata": {
    "papermill": {
     "duration": 0.029618,
     "end_time": "2021-05-28T14:46:34.373113",
     "exception": false,
     "start_time": "2021-05-28T14:46:34.343495",
     "status": "completed"
    },
    "tags": []
   },
   "outputs": [
    {
     "data": {
      "image/png": "[encoded data removed]",
      "text/plain": [
       "<Figure size 1080x720 with 1 Axes>"
      ]
     },
     "metadata": {
      "needs_background": "light"
     },
     "output_type": "display_data"
    }
   ],
   "source": [
    "plt.figure(figsize = (15,10))\n",
    "ten = df1.groupby(['tenure'])['MonthlyCharges'].mean().sort_index(ascending = True)\n",
    "sns.regplot(x = ten.index, y = ten.values)\n",
    "plt.xlabel('Tenure Months')\n",
    "plt.ylabel('Monthly Charges mean')\n",
    "plt.title('relation between tenure months and mean of monthly charges')\n",
    "plt.grid()\n",
    "plt.show()"
   ]
  },
  {
   "cell_type": "markdown",
   "metadata": {},
   "source": [
    "#### 문제 2"
   ]
  },
  {
   "cell_type": "markdown",
   "metadata": {
    "papermill": {
     "duration": 0.02949,
     "end_time": "2021-05-28T14:46:34.432623",
     "exception": false,
     "start_time": "2021-05-28T14:46:34.403133",
     "status": "completed"
    },
    "tags": []
   },
   "source": [
    "#### 문제 2 통신사 이동 이력이 있는 고객이 이용하는 인터넷 서비스\n",
    "* Churn == 1 인 샘플이 이용하는 인터넷 서비스 InternetService, OnlineSecurity,\n",
    "StreamingTV etc.) == 1 특징 분석\n",
    "* 타 통신사에서 귀사로 다시 돌아온 이유 고객이 귀사의 서비스가 매력이 있어\n",
    "돌아왔을 수 있을 가능성이 높 을 것으로 예상 관련 서비스 종류 분석 예정\n",
    "\n",
    "#### 문제 2 결과\n",
    "* Churn 이력이 있는 고객들 중에서 광랜을 이용하는 고객이 많은 특징을 가지고있다. \n",
    "* 대부분의 상품에서 Churn 이력이 있는 고객과 없는 고객의 이용 추세는 비슷하나, Churn 이력이없는 고객은 광랜보다 DSL상품을 사용하는 고객이 많다. \n"
   ]
  },
  {
   "cell_type": "code",
   "execution_count": 24,
   "metadata": {},
   "outputs": [
    {
     "data": {
      "text/html": [
       "<div>\n",
       "<style scoped>\n",
       "    .dataframe tbody tr th:only-of-type {\n",
       "        vertical-align: middle;\n",
       "    }\n",
       "\n",
       "    .dataframe tbody tr th {\n",
       "        vertical-align: top;\n",
       "    }\n",
       "\n",
       "    .dataframe thead th {\n",
       "        text-align: right;\n",
       "    }\n",
       "</style>\n",
       "<table border=\"1\" class=\"dataframe\">\n",
       "  <thead>\n",
       "    <tr style=\"text-align: right;\">\n",
       "      <th></th>\n",
       "      <th>customerID</th>\n",
       "      <th>gender</th>\n",
       "      <th>SeniorCitizen</th>\n",
       "      <th>Partner</th>\n",
       "      <th>Dependents</th>\n",
       "      <th>tenure</th>\n",
       "      <th>PhoneService</th>\n",
       "      <th>MultipleLines</th>\n",
       "      <th>InternetService</th>\n",
       "      <th>OnlineSecurity</th>\n",
       "      <th>...</th>\n",
       "      <th>DeviceProtection</th>\n",
       "      <th>TechSupport</th>\n",
       "      <th>StreamingTV</th>\n",
       "      <th>StreamingMovies</th>\n",
       "      <th>Contract</th>\n",
       "      <th>PaperlessBilling</th>\n",
       "      <th>PaymentMethod</th>\n",
       "      <th>MonthlyCharges</th>\n",
       "      <th>TotalCharges</th>\n",
       "      <th>Churn</th>\n",
       "    </tr>\n",
       "  </thead>\n",
       "  <tbody>\n",
       "    <tr>\n",
       "      <th>1869</th>\n",
       "      <td>7010-BRBUU</td>\n",
       "      <td>Male</td>\n",
       "      <td>0</td>\n",
       "      <td>Yes</td>\n",
       "      <td>Yes</td>\n",
       "      <td>72</td>\n",
       "      <td>Yes</td>\n",
       "      <td>Yes</td>\n",
       "      <td>No</td>\n",
       "      <td>No internet service</td>\n",
       "      <td>...</td>\n",
       "      <td>No internet service</td>\n",
       "      <td>No internet service</td>\n",
       "      <td>No internet service</td>\n",
       "      <td>No internet service</td>\n",
       "      <td>TY</td>\n",
       "      <td>No</td>\n",
       "      <td>CC</td>\n",
       "      <td>24.10</td>\n",
       "      <td>1734.65</td>\n",
       "      <td>No</td>\n",
       "    </tr>\n",
       "    <tr>\n",
       "      <th>4528</th>\n",
       "      <td>9688-YGXVR</td>\n",
       "      <td>Female</td>\n",
       "      <td>0</td>\n",
       "      <td>No</td>\n",
       "      <td>No</td>\n",
       "      <td>44</td>\n",
       "      <td>Yes</td>\n",
       "      <td>No</td>\n",
       "      <td>Fiber optic</td>\n",
       "      <td>No</td>\n",
       "      <td>...</td>\n",
       "      <td>Yes</td>\n",
       "      <td>No</td>\n",
       "      <td>Yes</td>\n",
       "      <td>No</td>\n",
       "      <td>MM</td>\n",
       "      <td>Yes</td>\n",
       "      <td>CC</td>\n",
       "      <td>88.15</td>\n",
       "      <td>3973.2</td>\n",
       "      <td>No</td>\n",
       "    </tr>\n",
       "    <tr>\n",
       "      <th>6344</th>\n",
       "      <td>9286-DOJGF</td>\n",
       "      <td>Female</td>\n",
       "      <td>1</td>\n",
       "      <td>Yes</td>\n",
       "      <td>No</td>\n",
       "      <td>38</td>\n",
       "      <td>Yes</td>\n",
       "      <td>Yes</td>\n",
       "      <td>Fiber optic</td>\n",
       "      <td>No</td>\n",
       "      <td>...</td>\n",
       "      <td>No</td>\n",
       "      <td>No</td>\n",
       "      <td>No</td>\n",
       "      <td>No</td>\n",
       "      <td>MM</td>\n",
       "      <td>Yes</td>\n",
       "      <td>BT</td>\n",
       "      <td>74.95</td>\n",
       "      <td>2869.85</td>\n",
       "      <td>Yes</td>\n",
       "    </tr>\n",
       "    <tr>\n",
       "      <th>6739</th>\n",
       "      <td>6994-KERXL</td>\n",
       "      <td>Male</td>\n",
       "      <td>0</td>\n",
       "      <td>No</td>\n",
       "      <td>No</td>\n",
       "      <td>4</td>\n",
       "      <td>Yes</td>\n",
       "      <td>No</td>\n",
       "      <td>DSL</td>\n",
       "      <td>No</td>\n",
       "      <td>...</td>\n",
       "      <td>No</td>\n",
       "      <td>No</td>\n",
       "      <td>No</td>\n",
       "      <td>Yes</td>\n",
       "      <td>MM</td>\n",
       "      <td>Yes</td>\n",
       "      <td>EC</td>\n",
       "      <td>55.90</td>\n",
       "      <td>238.5</td>\n",
       "      <td>No</td>\n",
       "    </tr>\n",
       "    <tr>\n",
       "      <th>432</th>\n",
       "      <td>2181-UAESM</td>\n",
       "      <td>Male</td>\n",
       "      <td>0</td>\n",
       "      <td>No</td>\n",
       "      <td>No</td>\n",
       "      <td>2</td>\n",
       "      <td>Yes</td>\n",
       "      <td>No</td>\n",
       "      <td>DSL</td>\n",
       "      <td>Yes</td>\n",
       "      <td>...</td>\n",
       "      <td>Yes</td>\n",
       "      <td>No</td>\n",
       "      <td>No</td>\n",
       "      <td>No</td>\n",
       "      <td>MM</td>\n",
       "      <td>No</td>\n",
       "      <td>EC</td>\n",
       "      <td>53.45</td>\n",
       "      <td>119.5</td>\n",
       "      <td>No</td>\n",
       "    </tr>\n",
       "  </tbody>\n",
       "</table>\n",
       "<p>5 rows × 21 columns</p>\n",
       "</div>"
      ],
      "text/plain": [
       "      customerID  gender SeniorCitizen Partner Dependents  tenure  \\\n",
       "1869  7010-BRBUU    Male             0     Yes        Yes      72   \n",
       "4528  9688-YGXVR  Female             0      No         No      44   \n",
       "6344  9286-DOJGF  Female             1     Yes         No      38   \n",
       "6739  6994-KERXL    Male             0      No         No       4   \n",
       "432   2181-UAESM    Male             0      No         No       2   \n",
       "\n",
       "     PhoneService MultipleLines InternetService       OnlineSecurity  ...  \\\n",
       "1869          Yes           Yes              No  No internet service  ...   \n",
       "4528          Yes            No     Fiber optic                   No  ...   \n",
       "6344          Yes           Yes     Fiber optic                   No  ...   \n",
       "6739          Yes            No             DSL                   No  ...   \n",
       "432           Yes            No             DSL                  Yes  ...   \n",
       "\n",
       "         DeviceProtection          TechSupport          StreamingTV  \\\n",
       "1869  No internet service  No internet service  No internet service   \n",
       "4528                  Yes                   No                  Yes   \n",
       "6344                   No                   No                   No   \n",
       "6739                   No                   No                   No   \n",
       "432                   Yes                   No                   No   \n",
       "\n",
       "          StreamingMovies Contract PaperlessBilling PaymentMethod  \\\n",
       "1869  No internet service       TY               No            CC   \n",
       "4528                   No       MM              Yes            CC   \n",
       "6344                   No       MM              Yes            BT   \n",
       "6739                  Yes       MM              Yes            EC   \n",
       "432                    No       MM               No            EC   \n",
       "\n",
       "     MonthlyCharges  TotalCharges Churn  \n",
       "1869          24.10       1734.65    No  \n",
       "4528          88.15        3973.2    No  \n",
       "6344          74.95       2869.85   Yes  \n",
       "6739          55.90         238.5    No  \n",
       "432           53.45         119.5    No  \n",
       "\n",
       "[5 rows x 21 columns]"
      ]
     },
     "execution_count": 24,
     "metadata": {},
     "output_type": "execute_result"
    }
   ],
   "source": [
    "df.head()"
   ]
  },
  {
   "cell_type": "code",
   "execution_count": 25,
   "metadata": {},
   "outputs": [],
   "source": [
    "#필요한 자료만 \n",
    "df2 = df.iloc[:, 6:15]\n",
    "df2['Churn'] = df['Churn']\n",
    "#no internet service 나 no phone service를 no 로 변경\n",
    "for i in range(0,9,1):\n",
    "    df2[df2.columns[i]] = df2[df2.columns[i]].replace('No internet service','No')\n",
    "    df2[df2.columns[i]] = df2[df2.columns[i]].replace('No phone service','No')\n"
   ]
  },
  {
   "cell_type": "code",
   "execution_count": 26,
   "metadata": {},
   "outputs": [
    {
     "data": {
      "text/plain": [
       "<AxesSubplot:xlabel='Churn', ylabel='count'>"
      ]
     },
     "execution_count": 26,
     "metadata": {},
     "output_type": "execute_result"
    },
    {
     "data": {
      "image/png": "[encoded data removed]",
      "text/plain": [
       "<Figure size 432x288 with 1 Axes>"
      ]
     },
     "metadata": {
      "needs_background": "light"
     },
     "output_type": "display_data"
    }
   ],
   "source": [
    "sns.countplot(x= 'Churn',data = df2)"
   ]
  },
  {
   "cell_type": "code",
   "execution_count": 27,
   "metadata": {},
   "outputs": [
    {
     "data": {
      "text/html": [
       "<div>\n",
       "<style scoped>\n",
       "    .dataframe tbody tr th:only-of-type {\n",
       "        vertical-align: middle;\n",
       "    }\n",
       "\n",
       "    .dataframe tbody tr th {\n",
       "        vertical-align: top;\n",
       "    }\n",
       "\n",
       "    .dataframe thead th {\n",
       "        text-align: right;\n",
       "    }\n",
       "</style>\n",
       "<table border=\"1\" class=\"dataframe\">\n",
       "  <thead>\n",
       "    <tr style=\"text-align: right;\">\n",
       "      <th></th>\n",
       "      <th>PhoneService</th>\n",
       "      <th>MultipleLines</th>\n",
       "      <th>InternetService</th>\n",
       "      <th>OnlineSecurity</th>\n",
       "      <th>OnlineBackup</th>\n",
       "      <th>DeviceProtection</th>\n",
       "      <th>TechSupport</th>\n",
       "      <th>StreamingTV</th>\n",
       "      <th>StreamingMovies</th>\n",
       "      <th>Churn</th>\n",
       "    </tr>\n",
       "  </thead>\n",
       "  <tbody>\n",
       "    <tr>\n",
       "      <th>1869</th>\n",
       "      <td>Yes</td>\n",
       "      <td>Yes</td>\n",
       "      <td>No</td>\n",
       "      <td>No</td>\n",
       "      <td>No</td>\n",
       "      <td>No</td>\n",
       "      <td>No</td>\n",
       "      <td>No</td>\n",
       "      <td>No</td>\n",
       "      <td>No</td>\n",
       "    </tr>\n",
       "    <tr>\n",
       "      <th>4528</th>\n",
       "      <td>Yes</td>\n",
       "      <td>No</td>\n",
       "      <td>Fiber optic</td>\n",
       "      <td>No</td>\n",
       "      <td>Yes</td>\n",
       "      <td>Yes</td>\n",
       "      <td>No</td>\n",
       "      <td>Yes</td>\n",
       "      <td>No</td>\n",
       "      <td>No</td>\n",
       "    </tr>\n",
       "    <tr>\n",
       "      <th>6344</th>\n",
       "      <td>Yes</td>\n",
       "      <td>Yes</td>\n",
       "      <td>Fiber optic</td>\n",
       "      <td>No</td>\n",
       "      <td>No</td>\n",
       "      <td>No</td>\n",
       "      <td>No</td>\n",
       "      <td>No</td>\n",
       "      <td>No</td>\n",
       "      <td>Yes</td>\n",
       "    </tr>\n",
       "    <tr>\n",
       "      <th>6739</th>\n",
       "      <td>Yes</td>\n",
       "      <td>No</td>\n",
       "      <td>DSL</td>\n",
       "      <td>No</td>\n",
       "      <td>No</td>\n",
       "      <td>No</td>\n",
       "      <td>No</td>\n",
       "      <td>No</td>\n",
       "      <td>Yes</td>\n",
       "      <td>No</td>\n",
       "    </tr>\n",
       "    <tr>\n",
       "      <th>432</th>\n",
       "      <td>Yes</td>\n",
       "      <td>No</td>\n",
       "      <td>DSL</td>\n",
       "      <td>Yes</td>\n",
       "      <td>No</td>\n",
       "      <td>Yes</td>\n",
       "      <td>No</td>\n",
       "      <td>No</td>\n",
       "      <td>No</td>\n",
       "      <td>No</td>\n",
       "    </tr>\n",
       "  </tbody>\n",
       "</table>\n",
       "</div>"
      ],
      "text/plain": [
       "     PhoneService MultipleLines InternetService OnlineSecurity OnlineBackup  \\\n",
       "1869          Yes           Yes              No             No           No   \n",
       "4528          Yes            No     Fiber optic             No          Yes   \n",
       "6344          Yes           Yes     Fiber optic             No           No   \n",
       "6739          Yes            No             DSL             No           No   \n",
       "432           Yes            No             DSL            Yes           No   \n",
       "\n",
       "     DeviceProtection TechSupport StreamingTV StreamingMovies Churn  \n",
       "1869               No          No          No              No    No  \n",
       "4528              Yes          No         Yes              No    No  \n",
       "6344               No          No          No              No   Yes  \n",
       "6739               No          No          No             Yes    No  \n",
       "432               Yes          No          No              No    No  "
      ]
     },
     "execution_count": 27,
     "metadata": {},
     "output_type": "execute_result"
    }
   ],
   "source": [
    "df2.head()"
   ]
  },
  {
   "cell_type": "code",
   "execution_count": 28,
   "metadata": {},
   "outputs": [
    {
     "name": "stdout",
     "output_type": "stream",
     "text": [
      "PhoneService\n",
      "No      590\n",
      "Yes    5396\n",
      "Name: PhoneService, dtype: int64\n",
      "MultipleLines\n",
      "No     3438\n",
      "Yes    2548\n",
      "Name: MultipleLines, dtype: int64\n",
      "InternetService\n",
      "DSL            2068\n",
      "Fiber optic    2627\n",
      "No             1291\n",
      "Name: InternetService, dtype: int64\n",
      "OnlineSecurity\n",
      "No     4273\n",
      "Yes    1713\n",
      "Name: OnlineSecurity, dtype: int64\n",
      "OnlineBackup\n",
      "No     3896\n",
      "Yes    2090\n",
      "Name: OnlineBackup, dtype: int64\n",
      "DeviceProtection\n",
      "No     3931\n",
      "Yes    2055\n",
      "Name: DeviceProtection, dtype: int64\n",
      "TechSupport\n",
      "No     4251\n",
      "Yes    1735\n",
      "Name: TechSupport, dtype: int64\n",
      "StreamingTV\n",
      "No     3680\n",
      "Yes    2306\n",
      "Name: StreamingTV, dtype: int64\n",
      "StreamingMovies\n",
      "No     3647\n",
      "Yes    2339\n",
      "Name: StreamingMovies, dtype: int64\n"
     ]
    }
   ],
   "source": [
    "for i in range(0,9,1):\n",
    "    print(df2.columns[i])\n",
    "    print(df2[df2.columns[i]].value_counts().sort_index())"
   ]
  },
  {
   "cell_type": "code",
   "execution_count": 29,
   "metadata": {},
   "outputs": [
    {
     "data": {
      "image/png": "[encoded data removed]",
      "text/plain": [
       "<Figure size 432x288 with 1 Axes>"
      ]
     },
     "metadata": {
      "needs_background": "light"
     },
     "output_type": "display_data"
    },
    {
     "data": {
      "image/png": "[encoded data removed]",
      "text/plain": [
       "<Figure size 432x288 with 1 Axes>"
      ]
     },
     "metadata": {
      "needs_background": "light"
     },
     "output_type": "display_data"
    },
    {
     "data": {
      "image/png": "[encoded data removed]",
      "text/plain": [
       "<Figure size 432x288 with 1 Axes>"
      ]
     },
     "metadata": {
      "needs_background": "light"
     },
     "output_type": "display_data"
    },
    {
     "data": {
      "image/png": "[encoded data removed]",
      "text/plain": [
       "<Figure size 432x288 with 1 Axes>"
      ]
     },
     "metadata": {
      "needs_background": "light"
     },
     "output_type": "display_data"
    },
    {
     "data": {
      "image/png": "[encoded data removed]",
      "text/plain": [
       "<Figure size 432x288 with 1 Axes>"
      ]
     },
     "metadata": {
      "needs_background": "light"
     },
     "output_type": "display_data"
    },
    {
     "data": {
      "image/png": "[encoded data removed]",
      "text/plain": [
       "<Figure size 432x288 with 1 Axes>"
      ]
     },
     "metadata": {
      "needs_background": "light"
     },
     "output_type": "display_data"
    },
    {
     "data": {
      "image/png": "[encoded data removed]",
      "text/plain": [
       "<Figure size 432x288 with 1 Axes>"
      ]
     },
     "metadata": {
      "needs_background": "light"
     },
     "output_type": "display_data"
    },
    {
     "data": {
      "image/png": "[encoded data removed]",
      "text/plain": [
       "<Figure size 432x288 with 1 Axes>"
      ]
     },
     "metadata": {
      "needs_background": "light"
     },
     "output_type": "display_data"
    },
    {
     "data": {
      "image/png": "[encoded data removed]",
      "text/plain": [
       "<Figure size 432x288 with 1 Axes>"
      ]
     },
     "metadata": {
      "needs_background": "light"
     },
     "output_type": "display_data"
    }
   ],
   "source": [
    "for i in range(0,9,1):\n",
    "    plt.figure(i)\n",
    "    sns.countplot(x=df2.columns[i],data= df2, hue = 'Churn')"
   ]
  },
  {
   "cell_type": "markdown",
   "metadata": {},
   "source": [
    "#### 문제 3 총 가입 월 수와 통신사 이동 여부의 관계\n",
    "* Churn == True/False 샘플과 Tenure 의 관계 를 통해 파악\n",
    "* 통신사 이동 이력이 있는 고객은 다시 타 통신사로 이동 가능성이 있기 때문\n",
    "\n",
    "#### 문제 3 결과\n",
    "* 가입한지 한달된 고객 중 Churn 이력이 있는 고객이 가장 많음 즉, 첫번째 달에 고객이탈이 가장 많다.\n",
    "* Churn 이력이 없는 고객 중 70개월 이상 이용 고객이 많고, 고객의 이용달수가 길수록 Churn 이력이 있는 고객의 수는 감소한다.\n",
    "* 첫번째 달에 Churn 이력이 없는 고객들도 상당히 많다. 첫번째 달에 고객이 제공받는 서비스를 신경써야 고객 이탈 가능성이 줄어든다고 볼 수 있다. \n",
    "\n"
   ]
  },
  {
   "cell_type": "code",
   "execution_count": 30,
   "metadata": {},
   "outputs": [],
   "source": [
    "df3 = pd.DataFrame(df['Churn'],columns = ['Churn','Tenure'])\n",
    "df3['Tenure'] = df['tenure']"
   ]
  },
  {
   "cell_type": "code",
   "execution_count": 31,
   "metadata": {},
   "outputs": [
    {
     "data": {
      "text/plain": [
       "<matplotlib.legend.Legend at 0x7fc1435fbfd0>"
      ]
     },
     "execution_count": 31,
     "metadata": {},
     "output_type": "execute_result"
    },
    {
     "data": {
      "image/png": "[encoded data removed]",
      "text/plain": [
       "<Figure size 1440x1080 with 1 Axes>"
      ]
     },
     "metadata": {
      "needs_background": "light"
     },
     "output_type": "display_data"
    }
   ],
   "source": [
    "plt.figure(figsize = (20,15))\n",
    "sns.countplot(x= 'Tenure',hue = 'Churn' ,data = df3)\n",
    "plt.legend(loc = 'upper right')"
   ]
  },
  {
   "cell_type": "markdown",
   "metadata": {},
   "source": [
    "#### 문제 4 은퇴한 고객 의 성별 이용하는 서비스\n",
    "* Gender == Male/Female 중 SeniorCitizen == 1 인 샘플에 대한\n",
    "서비스 PhoneService,InternetService, OnlineSecurity, StreamingTV etc.) == 1 특징\n",
    "분석\n",
    "* 점차 고령화 사회가 되어가면서 은퇴한 고객이 자택에 있는 시간이 많아지 므로\n",
    "은퇴 후 자택에서 인터넷의 사용여부를 확인할 수 있 고 은퇴한 고객이 주로 어떤\n",
    "서비스를 사용하는지 분석해 추후에 은퇴 고객 을 위한 서비스를 기획하는데 참고\n",
    "가능함\n",
    "* 은퇴 후 고객은 수입에 제한이 있으므로 더 적은 서비스를 이용할 가능성이\n",
    "있으며 주로 여성이 스트리밍 서비스 혹은 T V 서비스를 많이 이용하므로 여성이\n",
    "남성보다 더 많은 서비스를 이용할 것으로 보임\n",
    "\n",
    "#### 문제 4 결과\n",
    "* 예상대로 전화서비스는 대부분이 이용을 하고있다.\n",
    "* 다중회선을 이용하는 노인고객도 많다\n",
    "* 노인고객들은 DSL보다 광랜을 이용하고있다. \n",
    "* 인터넷관련된(OnlineSecurity, OnlneBackup, TechSupport)상품을 사용하는 고객이 상대적으로 적다.\n",
    "* 예상대로 StreamingTV 또는 StreamingMovies 상품을 이용하는 고객이 많다.\n",
    "* 스트리밍 서비스를 사용하는데 DSL은 한계가 있어 노인고객 중 광랜을 사용하는 고객이 많은 것으로 추측된다. \n",
    "* 예상과 달리 노인 고객의 성별은 많은 차이가 없으며, 스트리밍 서비스 사용자 또한 성별 차이가 없다.\n",
    "\n"
   ]
  },
  {
   "cell_type": "code",
   "execution_count": 32,
   "metadata": {
    "papermill": {
     "duration": 0.029648,
     "end_time": "2021-05-28T14:46:34.492681",
     "exception": false,
     "start_time": "2021-05-28T14:46:34.463033",
     "status": "completed"
    },
    "tags": []
   },
   "outputs": [
    {
     "data": {
      "text/html": [
       "<div>\n",
       "<style scoped>\n",
       "    .dataframe tbody tr th:only-of-type {\n",
       "        vertical-align: middle;\n",
       "    }\n",
       "\n",
       "    .dataframe tbody tr th {\n",
       "        vertical-align: top;\n",
       "    }\n",
       "\n",
       "    .dataframe thead th {\n",
       "        text-align: right;\n",
       "    }\n",
       "</style>\n",
       "<table border=\"1\" class=\"dataframe\">\n",
       "  <thead>\n",
       "    <tr style=\"text-align: right;\">\n",
       "      <th></th>\n",
       "      <th>PhoneService</th>\n",
       "      <th>MultipleLines</th>\n",
       "      <th>InternetService</th>\n",
       "      <th>OnlineSecurity</th>\n",
       "      <th>OnlineBackup</th>\n",
       "      <th>DeviceProtection</th>\n",
       "      <th>TechSupport</th>\n",
       "      <th>StreamingTV</th>\n",
       "      <th>StreamingMovies</th>\n",
       "      <th>gender</th>\n",
       "    </tr>\n",
       "  </thead>\n",
       "  <tbody>\n",
       "    <tr>\n",
       "      <th>6344</th>\n",
       "      <td>Yes</td>\n",
       "      <td>Yes</td>\n",
       "      <td>Fiber optic</td>\n",
       "      <td>No</td>\n",
       "      <td>No</td>\n",
       "      <td>No</td>\n",
       "      <td>No</td>\n",
       "      <td>No</td>\n",
       "      <td>No</td>\n",
       "      <td>Female</td>\n",
       "    </tr>\n",
       "    <tr>\n",
       "      <th>5137</th>\n",
       "      <td>Yes</td>\n",
       "      <td>Yes</td>\n",
       "      <td>Fiber optic</td>\n",
       "      <td>Yes</td>\n",
       "      <td>Yes</td>\n",
       "      <td>Yes</td>\n",
       "      <td>Yes</td>\n",
       "      <td>Yes</td>\n",
       "      <td>Yes</td>\n",
       "      <td>Male</td>\n",
       "    </tr>\n",
       "    <tr>\n",
       "      <th>2850</th>\n",
       "      <td>Yes</td>\n",
       "      <td>Yes</td>\n",
       "      <td>Fiber optic</td>\n",
       "      <td>No</td>\n",
       "      <td>No</td>\n",
       "      <td>No</td>\n",
       "      <td>Yes</td>\n",
       "      <td>Yes</td>\n",
       "      <td>Yes</td>\n",
       "      <td>Male</td>\n",
       "    </tr>\n",
       "    <tr>\n",
       "      <th>5782</th>\n",
       "      <td>Yes</td>\n",
       "      <td>No</td>\n",
       "      <td>Fiber optic</td>\n",
       "      <td>No</td>\n",
       "      <td>No</td>\n",
       "      <td>No</td>\n",
       "      <td>No</td>\n",
       "      <td>No</td>\n",
       "      <td>No</td>\n",
       "      <td>Female</td>\n",
       "    </tr>\n",
       "    <tr>\n",
       "      <th>5419</th>\n",
       "      <td>Yes</td>\n",
       "      <td>Yes</td>\n",
       "      <td>Fiber optic</td>\n",
       "      <td>Yes</td>\n",
       "      <td>No</td>\n",
       "      <td>No</td>\n",
       "      <td>No</td>\n",
       "      <td>No</td>\n",
       "      <td>No</td>\n",
       "      <td>Female</td>\n",
       "    </tr>\n",
       "  </tbody>\n",
       "</table>\n",
       "</div>"
      ],
      "text/plain": [
       "     PhoneService MultipleLines InternetService OnlineSecurity OnlineBackup  \\\n",
       "6344          Yes           Yes     Fiber optic             No           No   \n",
       "5137          Yes           Yes     Fiber optic            Yes          Yes   \n",
       "2850          Yes           Yes     Fiber optic             No           No   \n",
       "5782          Yes            No     Fiber optic             No           No   \n",
       "5419          Yes           Yes     Fiber optic            Yes           No   \n",
       "\n",
       "     DeviceProtection TechSupport StreamingTV StreamingMovies  gender  \n",
       "6344               No          No          No              No  Female  \n",
       "5137              Yes         Yes         Yes             Yes    Male  \n",
       "2850               No         Yes         Yes             Yes    Male  \n",
       "5782               No          No          No              No  Female  \n",
       "5419               No          No          No              No  Female  "
      ]
     },
     "execution_count": 32,
     "metadata": {},
     "output_type": "execute_result"
    }
   ],
   "source": [
    "df4 = df[df['SeniorCitizen'] == '1']\n",
    "df4 = df4.iloc[:, 6:15]\n",
    "df4['gender'] = df['gender']\n",
    "df4.head()"
   ]
  },
  {
   "cell_type": "code",
   "execution_count": 33,
   "metadata": {},
   "outputs": [
    {
     "data": {
      "image/png": "[encoded data removed]",
      "text/plain": [
       "<Figure size 432x288 with 1 Axes>"
      ]
     },
     "metadata": {
      "needs_background": "light"
     },
     "output_type": "display_data"
    },
    {
     "data": {
      "image/png": "[encoded data removed]",
      "text/plain": [
       "<Figure size 432x288 with 1 Axes>"
      ]
     },
     "metadata": {
      "needs_background": "light"
     },
     "output_type": "display_data"
    },
    {
     "data": {
      "image/png": "[encoded data removed]",
      "text/plain": [
       "<Figure size 432x288 with 1 Axes>"
      ]
     },
     "metadata": {
      "needs_background": "light"
     },
     "output_type": "display_data"
    },
    {
     "data": {
      "image/png": "[encoded data removed]",
      "text/plain": [
       "<Figure size 432x288 with 1 Axes>"
      ]
     },
     "metadata": {
      "needs_background": "light"
     },
     "output_type": "display_data"
    },
    {
     "data": {
      "image/png": "[encoded data removed]",
      "text/plain": [
       "<Figure size 432x288 with 1 Axes>"
      ]
     },
     "metadata": {
      "needs_background": "light"
     },
     "output_type": "display_data"
    },
    {
     "data": {
      "image/png": "[encoded data removed]",
      "text/plain": [
       "<Figure size 432x288 with 1 Axes>"
      ]
     },
     "metadata": {
      "needs_background": "light"
     },
     "output_type": "display_data"
    },
    {
     "data": {
      "image/png": "[encoded data removed]",
      "text/plain": [
       "<Figure size 432x288 with 1 Axes>"
      ]
     },
     "metadata": {
      "needs_background": "light"
     },
     "output_type": "display_data"
    },
    {
     "data": {
      "image/png": "[encoded data removed]",
      "text/plain": [
       "<Figure size 432x288 with 1 Axes>"
      ]
     },
     "metadata": {
      "needs_background": "light"
     },
     "output_type": "display_data"
    },
    {
     "data": {
      "image/png": "[encoded data removed]",
      "text/plain": [
       "<Figure size 432x288 with 1 Axes>"
      ]
     },
     "metadata": {
      "needs_background": "light"
     },
     "output_type": "display_data"
    }
   ],
   "source": [
    "for i in range(0,9,1):\n",
    "    plt.figure(i)\n",
    "    sns.countplot(x=df4.columns[i],data= df4)"
   ]
  },
  {
   "cell_type": "code",
   "execution_count": 34,
   "metadata": {},
   "outputs": [
    {
     "data": {
      "text/plain": [
       "<AxesSubplot:xlabel='gender', ylabel='count'>"
      ]
     },
     "execution_count": 34,
     "metadata": {},
     "output_type": "execute_result"
    },
    {
     "data": {
      "image/png": "[encoded data removed]",
      "text/plain": [
       "<Figure size 432x288 with 1 Axes>"
      ]
     },
     "metadata": {
      "needs_background": "light"
     },
     "output_type": "display_data"
    }
   ],
   "source": [
    "sns.countplot(x = 'gender', data = df4)"
   ]
  },
  {
   "cell_type": "code",
   "execution_count": 35,
   "metadata": {},
   "outputs": [
    {
     "data": {
      "text/plain": [
       "<AxesSubplot:xlabel='StreamingTV', ylabel='count'>"
      ]
     },
     "execution_count": 35,
     "metadata": {},
     "output_type": "execute_result"
    },
    {
     "data": {
      "image/png": "[encoded data removed]",
      "text/plain": [
       "<Figure size 432x288 with 1 Axes>"
      ]
     },
     "metadata": {
      "needs_background": "light"
     },
     "output_type": "display_data"
    }
   ],
   "source": [
    "sns.countplot(x='StreamingTV',hue = 'gender',data= df4)"
   ]
  },
  {
   "cell_type": "markdown",
   "metadata": {
    "papermill": {
     "duration": 0.029656,
     "end_time": "2021-05-28T14:46:34.552375",
     "exception": false,
     "start_time": "2021-05-28T14:46:34.522719",
     "status": "completed"
    },
    "tags": []
   },
   "source": [
    "### 문제 5-8 해결하기\n",
    "* df5~df8 사용"
   ]
  },
  {
   "cell_type": "markdown",
   "metadata": {},
   "source": [
    "#### 문제5 은퇴한 사람들 중 종이 없이 비용을 지불하는 비율은 얼마인가\n",
    "* SeniorCitizen ==1 인 샘플들 중에 PaperlessBilling 의 Yes/ No 비율을 비교. \n",
    "* 은퇴한 사람들일수록 나이가 많기 때문에, 종이를 사용한 비용 납부 비율이 더 클 것으로 예상\n",
    "\n",
    "#### 문제5 결과\n",
    "* 예상과 다르게, 은퇴한 고객도 종이를 사용하지 않고 지불하는 경우가 더 높았다. \n",
    "* 은퇴한 고객일수록 나이가 많기 때문에 종이를 사용한 납부 방식이 오히려 불편한 것으로 추정된다. \n",
    "* 종이를 사용하지 않는 고객이 종이를 사용하는 고객보다 3배 이상 많은 것을 알 수 있다. "
   ]
  },
  {
   "cell_type": "code",
   "execution_count": 36,
   "metadata": {},
   "outputs": [],
   "source": [
    "df5=df.copy()\n",
    "df5=df5[df5['SeniorCitizen']=='1']"
   ]
  },
  {
   "cell_type": "code",
   "execution_count": 37,
   "metadata": {},
   "outputs": [
    {
     "data": {
      "text/plain": [
       "<AxesSubplot:xlabel='PaperlessBilling', ylabel='count'>"
      ]
     },
     "execution_count": 37,
     "metadata": {},
     "output_type": "execute_result"
    },
    {
     "data": {
      "image/png": "[encoded data removed]",
      "text/plain": [
       "<Figure size 432x288 with 1 Axes>"
      ]
     },
     "metadata": {
      "needs_background": "light"
     },
     "output_type": "display_data"
    }
   ],
   "source": [
    "sns.countplot(x='PaperlessBilling', data=df5)"
   ]
  },
  {
   "cell_type": "markdown",
   "metadata": {},
   "source": [
    "#### 문제6 PaperlessBilling 방식에 따른 지불 방식과, 각 지불 방식별 이탈 여부\n",
    "* PaperlessBilling 별 PaymentMethod 와, 각 PaymentMethod 의 Churn 여부 분석. \n",
    "* 비용 지불 방법(PaymentMethod)이 고객 이탈 여부(Churn)에 영향이 있는 요소인지 알아보기 위함. \n",
    "* 자동화 방식일수록 고객 이탈 여부가 클 것으로 생각됨.\n",
    "\n",
    "#### 문제6 결과\n",
    "* 종이 사용여부와 관계없이, Electronic check(EC) 지불 방식을 사용하는 고객의 이탈 가능성이 가장 높다. \n",
    "* 특히, 종이를 사용하지 않고 지불하는 고객의 경우, EC 지불방식을 사용하는 고객 수가 많았지만, 그만큼 이탈율도 높다는 문제가 있다. \n",
    "* 종이를 사용하지 않고 지불하는 고객의 경우, Electronic check, Credit card(automatic), Bank transfer(automatic), Mailed check 순으로 고객이 이탈하지 않고 해당 통신사를 이용했다.\n",
    "* 종이를 사용하여 지불하는 고객의 경우, Mailed check, Credit card(automatic), Bank transfer(automatic), Electronic chec 순으로 고객이 이탈하지 않고 해당 통신사를 이용했다. \n",
    "* 종이를 사용하지 않고 지불하는 고객과 비교해보면, Electronic check 방식으로 지불하는 고객이 종이를 사용하는 지불 고객의 경우 가장 사용하지 않는 방식이었지만, 종이를 사용하지 않고 지불하는 고객의 경우에는 가장 많이 사용하는 방식이었다. \n",
    "* Mailed check도 이와 비슷한 지불 방식으로, 종이를 사용하여 지불하는 고객에서는 가장 많이 사용하는 방식이지만, 종이를 사용하지 않고 지불하는 고객에게는 가장 덜 사용하는 방식으로 나타났다. "
   ]
  },
  {
   "cell_type": "code",
   "execution_count": 38,
   "metadata": {},
   "outputs": [],
   "source": [
    "df6=df.copy()"
   ]
  },
  {
   "cell_type": "code",
   "execution_count": 39,
   "metadata": {
    "papermill": {
     "duration": 0.029491,
     "end_time": "2021-05-28T14:46:34.671209",
     "exception": false,
     "start_time": "2021-05-28T14:46:34.641718",
     "status": "completed"
    },
    "tags": []
   },
   "outputs": [
    {
     "data": {
      "text/plain": [
       "([<matplotlib.axis.XTick at 0x7fc14410d670>,\n",
       "  <matplotlib.axis.XTick at 0x7fc14410d640>,\n",
       "  <matplotlib.axis.XTick at 0x7fc1440e5520>,\n",
       "  <matplotlib.axis.XTick at 0x7fc1435e1190>],\n",
       " [Text(0, 0, 'Electronic \\ncheck'),\n",
       "  Text(1, 0, 'Mailed \\ncheck'),\n",
       "  Text(2, 0, 'Bank \\ntransfer\\n(automatic)'),\n",
       "  Text(3, 0, 'Credit \\ncard\\n(automatic)')])"
      ]
     },
     "execution_count": 39,
     "metadata": {},
     "output_type": "execute_result"
    },
    {
     "data": {
      "image/png": "[encoded data removed]",
      "text/plain": [
       "<Figure size 720x432 with 2 Axes>"
      ]
     },
     "metadata": {
      "needs_background": "light"
     },
     "output_type": "display_data"
    }
   ],
   "source": [
    "orderInd=['EC', 'MC', 'BT', 'CC']\n",
    "plt.figure(figsize=(10,6))\n",
    "\n",
    "plt.subplot(1,2,1)\n",
    "plt.title(\"People who do PaperlessBilling...\")\n",
    "sns.countplot(x='PaymentMethod', hue='Churn',data=df6[df6['PaperlessBilling']=='Yes'], order=orderInd)\n",
    "plt.xticks([0,1,2,3],['Electronic \\ncheck','Mailed \\ncheck',\n",
    "                      'Bank \\ntransfer\\n(automatic)','Credit \\ncard\\n(automatic)'])\n",
    "\n",
    "plt.subplot(1,2,2)\n",
    "plt.title(\"People who do non-PaperlessBilling...\")\n",
    "sns.countplot(x='PaymentMethod', hue='Churn',data=df6[df6['PaperlessBilling']=='No'], order=orderInd)\n",
    "plt.xticks([0,1,2,3],['Electronic \\ncheck','Mailed \\ncheck',\n",
    "                      'Bank \\ntransfer\\n(automatic)','Credit \\ncard\\n(automatic)'])"
   ]
  },
  {
   "cell_type": "markdown",
   "metadata": {},
   "source": [
    "#### 문제7 MultipleLines 고객별 Churn 여부\n",
    "* 여러 전화선을 연결해서 쓰고 있다면, 고객 이탈이 더 많을 것으로 예상.\n",
    "* 여러 전화선을 가진 사람일수록 전화선을 통일하여 1 개 전화선만 쓸 가능성이 크기 때문\n",
    "\n",
    "#### 문제7 결과\n",
    "* 여러 전화선을 사용하는 여부가 고객 이탈 여부에 큰 영향을 미치지는 않지만, 여러 전화선을 이용하는 고객이 그렇지 않는 고객에 비해 3% 정도 높은 확률로 이탈할 수는 있다. "
   ]
  },
  {
   "cell_type": "code",
   "execution_count": 40,
   "metadata": {},
   "outputs": [],
   "source": [
    "df7= df.copy()"
   ]
  },
  {
   "cell_type": "code",
   "execution_count": 41,
   "metadata": {
    "papermill": {
     "duration": 0.030021,
     "end_time": "2021-05-28T14:46:34.731060",
     "exception": false,
     "start_time": "2021-05-28T14:46:34.701039",
     "status": "completed"
    },
    "tags": []
   },
   "outputs": [
    {
     "data": {
      "text/plain": [
       "<AxesSubplot:xlabel='MultipleLines', ylabel='count'>"
      ]
     },
     "execution_count": 41,
     "metadata": {},
     "output_type": "execute_result"
    },
    {
     "data": {
      "image/png": "[encoded data removed]",
      "text/plain": [
       "<Figure size 432x288 with 1 Axes>"
      ]
     },
     "metadata": {
      "needs_background": "light"
     },
     "output_type": "display_data"
    }
   ],
   "source": [
    "sns.countplot(x='MultipleLines', hue='Churn', data=df7)"
   ]
  },
  {
   "cell_type": "code",
   "execution_count": 42,
   "metadata": {},
   "outputs": [
    {
     "name": "stdout",
     "output_type": "stream",
     "text": [
      "MultipleLines가 Yes인 고객이 이탈할 확률은 28%이다. \n",
      "MultipleLines가 No인 고객이 이탈할 확률은 25%이다. \n"
     ]
    },
    {
     "name": "stderr",
     "output_type": "stream",
     "text": [
      "<ipython-input-42-23cf4f3200f7>:3: UserWarning: Boolean Series key will be reindexed to match DataFrame index.\n",
      "  prob= df7[df7['MultipleLines']==i][df7['Churn']=='Yes']['Churn'].count()/df7[df7['MultipleLines']==i]['Churn'].count()\n"
     ]
    }
   ],
   "source": [
    "YN=['Yes', 'No']\n",
    "for i in YN:\n",
    "    prob= df7[df7['MultipleLines']==i][df7['Churn']=='Yes']['Churn'].count()/df7[df7['MultipleLines']==i]['Churn'].count()\n",
    "    print(\"MultipleLines가 \"+i+\"인 고객이 이탈할 확률은 \"+str(int(prob*100))+\"%이다. \")"
   ]
  },
  {
   "cell_type": "markdown",
   "metadata": {},
   "source": [
    "#### 문제8 계약 갱신 기간에 따른 고객 이탈 여부 파악하기\n",
    "* Contract 종류에 따른 Churn 여부를 통해 알 수 있음\n",
    "* 매달 계약을 갱신한다면, 다른 통신사로 바꿀 가능성이 크지만, 연 단위로 계약을 갱신하는 고객이라면 해당 통신사를 지속적으로 사용할 가능성이 높은 고객이라고 생각됨.\n",
    "\n",
    "#### 문제8 결과\n",
    "* 예상대로, 월단위로 계약을 갱신하는 고객이 연 단위 계약 갱신 고객보다 이탈율이 월등히 높다. "
   ]
  },
  {
   "cell_type": "code",
   "execution_count": 43,
   "metadata": {
    "papermill": {
     "duration": 0.030177,
     "end_time": "2021-05-28T14:46:34.791154",
     "exception": false,
     "start_time": "2021-05-28T14:46:34.760977",
     "status": "completed"
    },
    "tags": []
   },
   "outputs": [],
   "source": [
    "df8=df.copy()"
   ]
  },
  {
   "cell_type": "code",
   "execution_count": 44,
   "metadata": {
    "papermill": {
     "duration": 0.029353,
     "end_time": "2021-05-28T14:46:34.850429",
     "exception": false,
     "start_time": "2021-05-28T14:46:34.821076",
     "status": "completed"
    },
    "tags": []
   },
   "outputs": [
    {
     "data": {
      "text/plain": [
       "([<matplotlib.axis.XTick at 0x7fc144139970>,\n",
       "  <matplotlib.axis.XTick at 0x7fc144139940>,\n",
       "  <matplotlib.axis.XTick at 0x7fc144134be0>],\n",
       " [Text(0, 0, 'Month-to-month'),\n",
       "  Text(1, 0, 'One year'),\n",
       "  Text(2, 0, 'Two Year')])"
      ]
     },
     "execution_count": 44,
     "metadata": {},
     "output_type": "execute_result"
    },
    {
     "data": {
      "image/png": "[encoded data removed]",
      "text/plain": [
       "<Figure size 432x288 with 1 Axes>"
      ]
     },
     "metadata": {
      "needs_background": "light"
     },
     "output_type": "display_data"
    }
   ],
   "source": [
    "sns.countplot(x='Contract', hue='Churn', data=df8, order=['MM', 'OY', 'TY'])\n",
    "plt.xticks([0,1,2],['Month-to-month','One year', 'Two Year'])"
   ]
  },
  {
   "cell_type": "markdown",
   "metadata": {
    "papermill": {
     "duration": 0.029316,
     "end_time": "2021-05-28T14:46:34.909284",
     "exception": false,
     "start_time": "2021-05-28T14:46:34.879968",
     "status": "completed"
    },
    "tags": []
   },
   "source": [
    "### 문제 9 해결하기\n",
    "* df9 사용\n",
    "* 머신러닝 모델 성능비교하기\n",
    "* https://www.kaggle.com/mjain12/churn-prediction-classification 참고"
   ]
  },
  {
   "cell_type": "markdown",
   "metadata": {},
   "source": [
    "#### 문제9 통신사 이탈 고객 예측 모델 성능 비교\n",
    "* scikit-learn 의 Logistic Regression(시그모이드 함수 사용), KNN(유클리드 거리 기반), SVC(decision boundary 설정) 모델 3 개의 성능 비교한다.\n",
    "* 서로 다른 기법을 사용하는 모델 3가지 성능을 비교하고 이탈 고객 예측 정확도가 0.8을 넘는 모델을 찾는다. \n",
    "\n",
    "#### 문제9 결과\n",
    "* 로지스틱 회귀 모델이 3개 모델 중에서 이탈 고객 예측 정확도가 0.8이 넘는 모델이다. \n",
    "* 로지스틱 회귀> SVC> KNN 모델 순으로 앞에서부터 예측 정확도가 높다.\n",
    "* confusion matrix의 2번째 행에서, 정답 클래스와 예측 클래스가 같은 경우보다 정답 클래스와 예측 클래스가 다른 경우가 더 많은 모델은, 이탈 고객 예측 정확도가 0.8보다 낮았다. "
   ]
  },
  {
   "cell_type": "code",
   "execution_count": 45,
   "metadata": {
    "papermill": {
     "duration": 0.029483,
     "end_time": "2021-05-28T14:46:34.969300",
     "exception": false,
     "start_time": "2021-05-28T14:46:34.939817",
     "status": "completed"
    },
    "tags": []
   },
   "outputs": [
    {
     "data": {
      "text/html": [
       "<div>\n",
       "<style scoped>\n",
       "    .dataframe tbody tr th:only-of-type {\n",
       "        vertical-align: middle;\n",
       "    }\n",
       "\n",
       "    .dataframe tbody tr th {\n",
       "        vertical-align: top;\n",
       "    }\n",
       "\n",
       "    .dataframe thead th {\n",
       "        text-align: right;\n",
       "    }\n",
       "</style>\n",
       "<table border=\"1\" class=\"dataframe\">\n",
       "  <thead>\n",
       "    <tr style=\"text-align: right;\">\n",
       "      <th></th>\n",
       "      <th>gender</th>\n",
       "      <th>SeniorCitizen</th>\n",
       "      <th>Partner</th>\n",
       "      <th>Dependents</th>\n",
       "      <th>tenure</th>\n",
       "      <th>PhoneService</th>\n",
       "      <th>MultipleLines</th>\n",
       "      <th>InternetService</th>\n",
       "      <th>OnlineSecurity</th>\n",
       "      <th>OnlineBackup</th>\n",
       "      <th>DeviceProtection</th>\n",
       "      <th>TechSupport</th>\n",
       "      <th>StreamingTV</th>\n",
       "      <th>StreamingMovies</th>\n",
       "      <th>Contract</th>\n",
       "      <th>PaperlessBilling</th>\n",
       "      <th>PaymentMethod</th>\n",
       "      <th>MonthlyCharges</th>\n",
       "      <th>TotalCharges</th>\n",
       "      <th>Churn</th>\n",
       "    </tr>\n",
       "  </thead>\n",
       "  <tbody>\n",
       "    <tr>\n",
       "      <th>1869</th>\n",
       "      <td>Male</td>\n",
       "      <td>0</td>\n",
       "      <td>Yes</td>\n",
       "      <td>Yes</td>\n",
       "      <td>72</td>\n",
       "      <td>Yes</td>\n",
       "      <td>Yes</td>\n",
       "      <td>No</td>\n",
       "      <td>No internet service</td>\n",
       "      <td>No internet service</td>\n",
       "      <td>No internet service</td>\n",
       "      <td>No internet service</td>\n",
       "      <td>No internet service</td>\n",
       "      <td>No internet service</td>\n",
       "      <td>TY</td>\n",
       "      <td>No</td>\n",
       "      <td>CC</td>\n",
       "      <td>24.10</td>\n",
       "      <td>1734.65</td>\n",
       "      <td>No</td>\n",
       "    </tr>\n",
       "    <tr>\n",
       "      <th>4528</th>\n",
       "      <td>Female</td>\n",
       "      <td>0</td>\n",
       "      <td>No</td>\n",
       "      <td>No</td>\n",
       "      <td>44</td>\n",
       "      <td>Yes</td>\n",
       "      <td>No</td>\n",
       "      <td>Fiber optic</td>\n",
       "      <td>No</td>\n",
       "      <td>Yes</td>\n",
       "      <td>Yes</td>\n",
       "      <td>No</td>\n",
       "      <td>Yes</td>\n",
       "      <td>No</td>\n",
       "      <td>MM</td>\n",
       "      <td>Yes</td>\n",
       "      <td>CC</td>\n",
       "      <td>88.15</td>\n",
       "      <td>3973.2</td>\n",
       "      <td>No</td>\n",
       "    </tr>\n",
       "    <tr>\n",
       "      <th>6344</th>\n",
       "      <td>Female</td>\n",
       "      <td>1</td>\n",
       "      <td>Yes</td>\n",
       "      <td>No</td>\n",
       "      <td>38</td>\n",
       "      <td>Yes</td>\n",
       "      <td>Yes</td>\n",
       "      <td>Fiber optic</td>\n",
       "      <td>No</td>\n",
       "      <td>No</td>\n",
       "      <td>No</td>\n",
       "      <td>No</td>\n",
       "      <td>No</td>\n",
       "      <td>No</td>\n",
       "      <td>MM</td>\n",
       "      <td>Yes</td>\n",
       "      <td>BT</td>\n",
       "      <td>74.95</td>\n",
       "      <td>2869.85</td>\n",
       "      <td>Yes</td>\n",
       "    </tr>\n",
       "    <tr>\n",
       "      <th>6739</th>\n",
       "      <td>Male</td>\n",
       "      <td>0</td>\n",
       "      <td>No</td>\n",
       "      <td>No</td>\n",
       "      <td>4</td>\n",
       "      <td>Yes</td>\n",
       "      <td>No</td>\n",
       "      <td>DSL</td>\n",
       "      <td>No</td>\n",
       "      <td>No</td>\n",
       "      <td>No</td>\n",
       "      <td>No</td>\n",
       "      <td>No</td>\n",
       "      <td>Yes</td>\n",
       "      <td>MM</td>\n",
       "      <td>Yes</td>\n",
       "      <td>EC</td>\n",
       "      <td>55.90</td>\n",
       "      <td>238.5</td>\n",
       "      <td>No</td>\n",
       "    </tr>\n",
       "    <tr>\n",
       "      <th>432</th>\n",
       "      <td>Male</td>\n",
       "      <td>0</td>\n",
       "      <td>No</td>\n",
       "      <td>No</td>\n",
       "      <td>2</td>\n",
       "      <td>Yes</td>\n",
       "      <td>No</td>\n",
       "      <td>DSL</td>\n",
       "      <td>Yes</td>\n",
       "      <td>No</td>\n",
       "      <td>Yes</td>\n",
       "      <td>No</td>\n",
       "      <td>No</td>\n",
       "      <td>No</td>\n",
       "      <td>MM</td>\n",
       "      <td>No</td>\n",
       "      <td>EC</td>\n",
       "      <td>53.45</td>\n",
       "      <td>119.5</td>\n",
       "      <td>No</td>\n",
       "    </tr>\n",
       "  </tbody>\n",
       "</table>\n",
       "</div>"
      ],
      "text/plain": [
       "      gender SeniorCitizen Partner Dependents  tenure PhoneService  \\\n",
       "1869    Male             0     Yes        Yes      72          Yes   \n",
       "4528  Female             0      No         No      44          Yes   \n",
       "6344  Female             1     Yes         No      38          Yes   \n",
       "6739    Male             0      No         No       4          Yes   \n",
       "432     Male             0      No         No       2          Yes   \n",
       "\n",
       "     MultipleLines InternetService       OnlineSecurity         OnlineBackup  \\\n",
       "1869           Yes              No  No internet service  No internet service   \n",
       "4528            No     Fiber optic                   No                  Yes   \n",
       "6344           Yes     Fiber optic                   No                   No   \n",
       "6739            No             DSL                   No                   No   \n",
       "432             No             DSL                  Yes                   No   \n",
       "\n",
       "         DeviceProtection          TechSupport          StreamingTV  \\\n",
       "1869  No internet service  No internet service  No internet service   \n",
       "4528                  Yes                   No                  Yes   \n",
       "6344                   No                   No                   No   \n",
       "6739                   No                   No                   No   \n",
       "432                   Yes                   No                   No   \n",
       "\n",
       "          StreamingMovies Contract PaperlessBilling PaymentMethod  \\\n",
       "1869  No internet service       TY               No            CC   \n",
       "4528                   No       MM              Yes            CC   \n",
       "6344                   No       MM              Yes            BT   \n",
       "6739                  Yes       MM              Yes            EC   \n",
       "432                    No       MM               No            EC   \n",
       "\n",
       "      MonthlyCharges TotalCharges Churn  \n",
       "1869           24.10      1734.65    No  \n",
       "4528           88.15       3973.2    No  \n",
       "6344           74.95      2869.85   Yes  \n",
       "6739           55.90        238.5    No  \n",
       "432            53.45        119.5    No  "
      ]
     },
     "execution_count": 45,
     "metadata": {},
     "output_type": "execute_result"
    }
   ],
   "source": [
    "df9=df.copy()\n",
    "#taking care of categorical values\n",
    "from sklearn.preprocessing import LabelEncoder\n",
    "\n",
    "df9=df9.drop('customerID',axis=1) # 고객 ID 열은 예측에 사용하지 않으므로 제외\n",
    "df9.head()"
   ]
  },
  {
   "cell_type": "code",
   "execution_count": 46,
   "metadata": {},
   "outputs": [],
   "source": [
    "le=LabelEncoder()\n",
    "objList = list(df9.dtypes[df9.dtypes == object].index) # 자료형이 object인 칼럼들만 숫자형으로 변환 \n",
    "for i in objList:\n",
    "    df9[i]=le.fit_transform(df9[i])"
   ]
  },
  {
   "cell_type": "code",
   "execution_count": 47,
   "metadata": {
    "papermill": {
     "duration": 0.029205,
     "end_time": "2021-05-28T14:46:35.028058",
     "exception": false,
     "start_time": "2021-05-28T14:46:34.998853",
     "status": "completed"
    },
    "tags": []
   },
   "outputs": [
    {
     "data": {
      "text/html": [
       "<div>\n",
       "<style scoped>\n",
       "    .dataframe tbody tr th:only-of-type {\n",
       "        vertical-align: middle;\n",
       "    }\n",
       "\n",
       "    .dataframe tbody tr th {\n",
       "        vertical-align: top;\n",
       "    }\n",
       "\n",
       "    .dataframe thead th {\n",
       "        text-align: right;\n",
       "    }\n",
       "</style>\n",
       "<table border=\"1\" class=\"dataframe\">\n",
       "  <thead>\n",
       "    <tr style=\"text-align: right;\">\n",
       "      <th></th>\n",
       "      <th>gender</th>\n",
       "      <th>SeniorCitizen</th>\n",
       "      <th>Partner</th>\n",
       "      <th>Dependents</th>\n",
       "      <th>tenure</th>\n",
       "      <th>PhoneService</th>\n",
       "      <th>MultipleLines</th>\n",
       "      <th>InternetService</th>\n",
       "      <th>OnlineSecurity</th>\n",
       "      <th>OnlineBackup</th>\n",
       "      <th>DeviceProtection</th>\n",
       "      <th>TechSupport</th>\n",
       "      <th>StreamingTV</th>\n",
       "      <th>StreamingMovies</th>\n",
       "      <th>Contract</th>\n",
       "      <th>PaperlessBilling</th>\n",
       "      <th>PaymentMethod</th>\n",
       "      <th>MonthlyCharges</th>\n",
       "      <th>TotalCharges</th>\n",
       "      <th>Churn</th>\n",
       "    </tr>\n",
       "  </thead>\n",
       "  <tbody>\n",
       "    <tr>\n",
       "      <th>1869</th>\n",
       "      <td>1</td>\n",
       "      <td>0</td>\n",
       "      <td>1</td>\n",
       "      <td>1</td>\n",
       "      <td>72</td>\n",
       "      <td>1</td>\n",
       "      <td>2</td>\n",
       "      <td>2</td>\n",
       "      <td>1</td>\n",
       "      <td>1</td>\n",
       "      <td>1</td>\n",
       "      <td>1</td>\n",
       "      <td>1</td>\n",
       "      <td>1</td>\n",
       "      <td>2</td>\n",
       "      <td>0</td>\n",
       "      <td>1</td>\n",
       "      <td>24.10</td>\n",
       "      <td>1066</td>\n",
       "      <td>0</td>\n",
       "    </tr>\n",
       "    <tr>\n",
       "      <th>4528</th>\n",
       "      <td>0</td>\n",
       "      <td>0</td>\n",
       "      <td>0</td>\n",
       "      <td>0</td>\n",
       "      <td>44</td>\n",
       "      <td>1</td>\n",
       "      <td>0</td>\n",
       "      <td>1</td>\n",
       "      <td>0</td>\n",
       "      <td>2</td>\n",
       "      <td>2</td>\n",
       "      <td>0</td>\n",
       "      <td>2</td>\n",
       "      <td>0</td>\n",
       "      <td>0</td>\n",
       "      <td>1</td>\n",
       "      <td>1</td>\n",
       "      <td>88.15</td>\n",
       "      <td>2901</td>\n",
       "      <td>0</td>\n",
       "    </tr>\n",
       "    <tr>\n",
       "      <th>6344</th>\n",
       "      <td>0</td>\n",
       "      <td>1</td>\n",
       "      <td>1</td>\n",
       "      <td>0</td>\n",
       "      <td>38</td>\n",
       "      <td>1</td>\n",
       "      <td>2</td>\n",
       "      <td>1</td>\n",
       "      <td>0</td>\n",
       "      <td>0</td>\n",
       "      <td>0</td>\n",
       "      <td>0</td>\n",
       "      <td>0</td>\n",
       "      <td>0</td>\n",
       "      <td>0</td>\n",
       "      <td>1</td>\n",
       "      <td>0</td>\n",
       "      <td>74.95</td>\n",
       "      <td>2126</td>\n",
       "      <td>1</td>\n",
       "    </tr>\n",
       "    <tr>\n",
       "      <th>6739</th>\n",
       "      <td>1</td>\n",
       "      <td>0</td>\n",
       "      <td>0</td>\n",
       "      <td>0</td>\n",
       "      <td>4</td>\n",
       "      <td>1</td>\n",
       "      <td>0</td>\n",
       "      <td>0</td>\n",
       "      <td>0</td>\n",
       "      <td>0</td>\n",
       "      <td>0</td>\n",
       "      <td>0</td>\n",
       "      <td>0</td>\n",
       "      <td>2</td>\n",
       "      <td>0</td>\n",
       "      <td>1</td>\n",
       "      <td>2</td>\n",
       "      <td>55.90</td>\n",
       "      <td>1733</td>\n",
       "      <td>0</td>\n",
       "    </tr>\n",
       "    <tr>\n",
       "      <th>432</th>\n",
       "      <td>1</td>\n",
       "      <td>0</td>\n",
       "      <td>0</td>\n",
       "      <td>0</td>\n",
       "      <td>2</td>\n",
       "      <td>1</td>\n",
       "      <td>0</td>\n",
       "      <td>0</td>\n",
       "      <td>2</td>\n",
       "      <td>0</td>\n",
       "      <td>2</td>\n",
       "      <td>0</td>\n",
       "      <td>0</td>\n",
       "      <td>0</td>\n",
       "      <td>0</td>\n",
       "      <td>0</td>\n",
       "      <td>2</td>\n",
       "      <td>53.45</td>\n",
       "      <td>308</td>\n",
       "      <td>0</td>\n",
       "    </tr>\n",
       "  </tbody>\n",
       "</table>\n",
       "</div>"
      ],
      "text/plain": [
       "      gender  SeniorCitizen  Partner  Dependents  tenure  PhoneService  \\\n",
       "1869       1              0        1           1      72             1   \n",
       "4528       0              0        0           0      44             1   \n",
       "6344       0              1        1           0      38             1   \n",
       "6739       1              0        0           0       4             1   \n",
       "432        1              0        0           0       2             1   \n",
       "\n",
       "      MultipleLines  InternetService  OnlineSecurity  OnlineBackup  \\\n",
       "1869              2                2               1             1   \n",
       "4528              0                1               0             2   \n",
       "6344              2                1               0             0   \n",
       "6739              0                0               0             0   \n",
       "432               0                0               2             0   \n",
       "\n",
       "      DeviceProtection  TechSupport  StreamingTV  StreamingMovies  Contract  \\\n",
       "1869                 1            1            1                1         2   \n",
       "4528                 2            0            2                0         0   \n",
       "6344                 0            0            0                0         0   \n",
       "6739                 0            0            0                2         0   \n",
       "432                  2            0            0                0         0   \n",
       "\n",
       "      PaperlessBilling  PaymentMethod  MonthlyCharges  TotalCharges  Churn  \n",
       "1869                 0              1           24.10          1066      0  \n",
       "4528                 1              1           88.15          2901      0  \n",
       "6344                 1              0           74.95          2126      1  \n",
       "6739                 1              2           55.90          1733      0  \n",
       "432                  0              2           53.45           308      0  "
      ]
     },
     "execution_count": 47,
     "metadata": {},
     "output_type": "execute_result"
    }
   ],
   "source": [
    "df9.head()"
   ]
  },
  {
   "cell_type": "code",
   "execution_count": 48,
   "metadata": {},
   "outputs": [],
   "source": [
    "# 속성값과 라벨값 분리 \n",
    "x = df9.iloc[:, :-1]\n",
    "y = df9.iloc[:, -1]"
   ]
  },
  {
   "cell_type": "code",
   "execution_count": 49,
   "metadata": {},
   "outputs": [],
   "source": [
    "# training 셋과 test 셋 분리 \n",
    "# 테스트 셋은 전체 데이터셋 중에서 20%로 지정. \n",
    "from sklearn.model_selection import train_test_split\n",
    "x_train, x_test, y_train, y_test = train_test_split(x, y, test_size = 0.2, random_state = 42) # 데이터 랜덤하게 섞기 "
   ]
  },
  {
   "cell_type": "code",
   "execution_count": 50,
   "metadata": {},
   "outputs": [
    {
     "name": "stdout",
     "output_type": "stream",
     "text": [
      "confusion matrix:\n",
      " [[791 104]\n",
      " [136 167]]\n",
      "accuracy score =  0.7996661101836394\n"
     ]
    }
   ],
   "source": [
    "#training model\n",
    "from sklearn.linear_model import LogisticRegression\n",
    "lr = LogisticRegression(max_iter=1000) # 1000번 반복 \n",
    "lr.fit(x_train,y_train)\n",
    "\n",
    "#getting confusion matrix\n",
    "from sklearn.metrics import confusion_matrix\n",
    "y_pred = lr.predict(x_test)\n",
    "cm = confusion_matrix(y_test,y_pred)\n",
    "print('confusion matrix:\\n',cm)\n",
    "\n",
    "#checking accuracy\n",
    "from sklearn.metrics import accuracy_score\n",
    "lra = accuracy_score(y_test,y_pred)\n",
    "print('accuracy score = ',lra)"
   ]
  },
  {
   "cell_type": "code",
   "execution_count": 51,
   "metadata": {
    "papermill": {
     "duration": 0.030511,
     "end_time": "2021-05-28T14:46:35.088497",
     "exception": false,
     "start_time": "2021-05-28T14:46:35.057986",
     "status": "completed"
    },
    "tags": []
   },
   "outputs": [
    {
     "name": "stdout",
     "output_type": "stream",
     "text": [
      "confusion matrix:\n",
      " [[769 126]\n",
      " [173 130]]\n",
      "accuracy score =  0.7504173622704507\n"
     ]
    }
   ],
   "source": [
    "#training model\n",
    "from sklearn.neighbors import KNeighborsClassifier\n",
    "knn = KNeighborsClassifier(n_neighbors = 5, metric = 'minkowski',p = 2)\n",
    "knn.fit(x_train,y_train)\n",
    "\n",
    "#getting confusion matrix\n",
    "from sklearn.metrics import confusion_matrix\n",
    "y_pred = knn.predict(x_test)\n",
    "cm = confusion_matrix(y_test,y_pred)\n",
    "print('confusion matrix:\\n',cm)\n",
    "\n",
    "#checking accuracy\n",
    "from sklearn.metrics import accuracy_score\n",
    "knna = accuracy_score(y_test,y_pred)\n",
    "print('accuracy score = ',accuracy_score(y_test,y_pred))"
   ]
  },
  {
   "cell_type": "code",
   "execution_count": 52,
   "metadata": {
    "papermill": {
     "duration": 0.029434,
     "end_time": "2021-05-28T14:46:35.148436",
     "exception": false,
     "start_time": "2021-05-28T14:46:35.119002",
     "status": "completed"
    },
    "tags": []
   },
   "outputs": [
    {
     "name": "stdout",
     "output_type": "stream",
     "text": [
      "confusion matrix:\n",
      " [[798  97]\n",
      " [156 147]]\n",
      "accuracy score =  0.7888146911519198\n"
     ]
    }
   ],
   "source": [
    "#training model\n",
    "from sklearn.svm import SVC\n",
    "svc = SVC(kernel = 'linear')\n",
    "svc.fit(x_train,y_train)\n",
    "\n",
    "#getting confusion matrix\n",
    "from sklearn.metrics import confusion_matrix\n",
    "y_pred = svc.predict(x_test)\n",
    "cm = confusion_matrix(y_test,y_pred)\n",
    "print('confusion matrix:\\n',cm)\n",
    "\n",
    "#checking accuracy\n",
    "from sklearn.metrics import accuracy_score\n",
    "sva =accuracy_score(y_test,y_pred)\n",
    "print('accuracy score = ',accuracy_score(y_test,y_pred))"
   ]
  },
  {
   "cell_type": "code",
   "execution_count": 53,
   "metadata": {},
   "outputs": [
    {
     "data": {
      "text/plain": [
       "<BarContainer object of 3 artists>"
      ]
     },
     "execution_count": 53,
     "metadata": {},
     "output_type": "execute_result"
    },
    {
     "data": {
      "image/png": "[encoded data removed]",
      "text/plain": [
       "<Figure size 576x504 with 1 Axes>"
      ]
     },
     "metadata": {
      "needs_background": "light"
     },
     "output_type": "display_data"
    }
   ],
   "source": [
    "#comparing accuracies\n",
    "plt.figure(figsize= (8,7))\n",
    "ac = [lra,knna,sva]\n",
    "name = ['LogReg','knn','svm']\n",
    "plt.bar(name,ac)"
   ]
  },
  {
   "cell_type": "markdown",
   "metadata": {
    "papermill": {
     "duration": 0.029957,
     "end_time": "2021-05-28T14:46:35.208233",
     "exception": false,
     "start_time": "2021-05-28T14:46:35.178276",
     "status": "completed"
    },
    "tags": []
   },
   "source": [
    "### 결론"
   ]
  },
  {
   "cell_type": "code",
   "execution_count": null,
   "metadata": {
    "papermill": {
     "duration": 0.0295,
     "end_time": "2021-05-28T14:46:35.267857",
     "exception": false,
     "start_time": "2021-05-28T14:46:35.238357",
     "status": "completed"
    },
    "tags": []
   },
   "outputs": [],
   "source": []
  },
  {
   "cell_type": "code",
   "execution_count": null,
   "metadata": {
    "papermill": {
     "duration": 0.029199,
     "end_time": "2021-05-28T14:46:35.327027",
     "exception": false,
     "start_time": "2021-05-28T14:46:35.297828",
     "status": "completed"
    },
    "tags": []
   },
   "outputs": [],
   "source": []
  },
  {
   "cell_type": "code",
   "execution_count": null,
   "metadata": {
    "papermill": {
     "duration": 0.029454,
     "end_time": "2021-05-28T14:46:35.387033",
     "exception": false,
     "start_time": "2021-05-28T14:46:35.357579",
     "status": "completed"
    },
    "tags": []
   },
   "outputs": [],
   "source": []
  }
 ],
 "metadata": {
  "kernelspec": {
   "display_name": "Python 3",
   "language": "python",
   "name": "python3"
  },
  "language_info": {
   "codemirror_mode": {
    "name": "ipython",
    "version": 3
   },
   "file_extension": ".py",
   "mimetype": "text/x-python",
   "name": "python",
   "nbconvert_exporter": "python",
   "pygments_lexer": "ipython3",
   "version": "3.8.5"
  },
  "papermill": {
   "default_parameters": {},
   "duration": 12.911963,
   "end_time": "2021-05-28T14:46:37.059244",
   "environment_variables": {},
   "exception": null,
   "input_path": "__notebook__.ipynb",
   "output_path": "__notebook__.ipynb",
   "parameters": {},
   "start_time": "2021-05-28T14:46:24.147281",
   "version": "2.3.3"
  }
 },
 "nbformat": 4,
 "nbformat_minor": 5
}
