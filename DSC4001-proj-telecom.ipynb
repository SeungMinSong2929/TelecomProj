{
 "cells": [
  {
   "cell_type": "code",
   "execution_count": 1,
   "id": "selective-publicity",
   "metadata": {
    "_cell_guid": "b1076dfc-b9ad-4769-8c92-a6c4dae69d19",
    "_uuid": "8f2839f25d086af736a60e9eeb907d3b93b6e0e5",
    "execution": {
     "iopub.execute_input": "2021-05-28T14:46:32.780738Z",
     "iopub.status.busy": "2021-05-28T14:46:32.780037Z",
     "iopub.status.idle": "2021-05-28T14:46:32.792495Z",
     "shell.execute_reply": "2021-05-28T14:46:32.793299Z",
     "shell.execute_reply.started": "2021-05-28T13:40:28.573077Z"
    },
    "papermill": {
     "duration": 0.054697,
     "end_time": "2021-05-28T14:46:32.793736",
     "exception": false,
     "start_time": "2021-05-28T14:46:32.739039",
     "status": "completed"
    },
    "tags": []
   },
   "outputs": [
    {
     "name": "stdout",
     "output_type": "stream",
     "text": [
      "/kaggle/input/telecom-users-dataset/telecom_users.csv\n"
     ]
    }
   ],
   "source": [
    "# This Python 3 environment comes with many helpful analytics libraries installed\n",
    "# It is defined by the kaggle/python Docker image: https://github.com/kaggle/docker-python\n",
    "# For example, here's several helpful packages to load\n",
    "\n",
    "import numpy as np # linear algebra\n",
    "import pandas as pd # data processing, CSV file I/O (e.g. pd.read_csv)\n",
    "\n",
    "# Input data files are available in the read-only \"../input/\" directory\n",
    "# For example, running this (by clicking run or pressing Shift+Enter) will list all files under the input directory\n",
    "\n",
    "import os\n",
    "for dirname, _, filenames in os.walk('/kaggle/input'):\n",
    "    for filename in filenames:\n",
    "        print(os.path.join(dirname, filename))\n",
    "\n",
    "# You can write up to 20GB to the current directory (/kaggle/working/) that gets preserved as output when you create a version using \"Save & Run All\" \n",
    "# You can also write temporary files to /kaggle/temp/, but they won't be saved outside of the current session"
   ]
  },
  {
   "cell_type": "markdown",
   "id": "basic-baseball",
   "metadata": {
    "papermill": {
     "duration": 0.027041,
     "end_time": "2021-05-28T14:46:32.848910",
     "exception": false,
     "start_time": "2021-05-28T14:46:32.821869",
     "status": "completed"
    },
    "tags": []
   },
   "source": [
    "### 데이터 불러오기 "
   ]
  },
  {
   "cell_type": "code",
   "execution_count": 2,
   "id": "discrete-warrant",
   "metadata": {
    "execution": {
     "iopub.execute_input": "2021-05-28T14:46:32.907088Z",
     "iopub.status.busy": "2021-05-28T14:46:32.906348Z",
     "iopub.status.idle": "2021-05-28T14:46:33.022849Z",
     "shell.execute_reply": "2021-05-28T14:46:33.023372Z",
     "shell.execute_reply.started": "2021-05-28T13:43:59.759386Z"
    },
    "papermill": {
     "duration": 0.14809,
     "end_time": "2021-05-28T14:46:33.023544",
     "exception": false,
     "start_time": "2021-05-28T14:46:32.875454",
     "status": "completed"
    },
    "tags": []
   },
   "outputs": [
    {
     "data": {
      "text/html": [
       "<div>\n",
       "<style scoped>\n",
       "    .dataframe tbody tr th:only-of-type {\n",
       "        vertical-align: middle;\n",
       "    }\n",
       "\n",
       "    .dataframe tbody tr th {\n",
       "        vertical-align: top;\n",
       "    }\n",
       "\n",
       "    .dataframe thead th {\n",
       "        text-align: right;\n",
       "    }\n",
       "</style>\n",
       "<table border=\"1\" class=\"dataframe\">\n",
       "  <thead>\n",
       "    <tr style=\"text-align: right;\">\n",
       "      <th></th>\n",
       "      <th>customerID</th>\n",
       "      <th>gender</th>\n",
       "      <th>SeniorCitizen</th>\n",
       "      <th>Partner</th>\n",
       "      <th>Dependents</th>\n",
       "      <th>tenure</th>\n",
       "      <th>PhoneService</th>\n",
       "      <th>MultipleLines</th>\n",
       "      <th>InternetService</th>\n",
       "      <th>OnlineSecurity</th>\n",
       "      <th>...</th>\n",
       "      <th>DeviceProtection</th>\n",
       "      <th>TechSupport</th>\n",
       "      <th>StreamingTV</th>\n",
       "      <th>StreamingMovies</th>\n",
       "      <th>Contract</th>\n",
       "      <th>PaperlessBilling</th>\n",
       "      <th>PaymentMethod</th>\n",
       "      <th>MonthlyCharges</th>\n",
       "      <th>TotalCharges</th>\n",
       "      <th>Churn</th>\n",
       "    </tr>\n",
       "  </thead>\n",
       "  <tbody>\n",
       "    <tr>\n",
       "      <th>1869</th>\n",
       "      <td>7010-BRBUU</td>\n",
       "      <td>Male</td>\n",
       "      <td>0</td>\n",
       "      <td>Yes</td>\n",
       "      <td>Yes</td>\n",
       "      <td>72</td>\n",
       "      <td>Yes</td>\n",
       "      <td>Yes</td>\n",
       "      <td>No</td>\n",
       "      <td>No internet service</td>\n",
       "      <td>...</td>\n",
       "      <td>No internet service</td>\n",
       "      <td>No internet service</td>\n",
       "      <td>No internet service</td>\n",
       "      <td>No internet service</td>\n",
       "      <td>Two year</td>\n",
       "      <td>No</td>\n",
       "      <td>Credit card (automatic)</td>\n",
       "      <td>24.10</td>\n",
       "      <td>1734.65</td>\n",
       "      <td>No</td>\n",
       "    </tr>\n",
       "    <tr>\n",
       "      <th>4528</th>\n",
       "      <td>9688-YGXVR</td>\n",
       "      <td>Female</td>\n",
       "      <td>0</td>\n",
       "      <td>No</td>\n",
       "      <td>No</td>\n",
       "      <td>44</td>\n",
       "      <td>Yes</td>\n",
       "      <td>No</td>\n",
       "      <td>Fiber optic</td>\n",
       "      <td>No</td>\n",
       "      <td>...</td>\n",
       "      <td>Yes</td>\n",
       "      <td>No</td>\n",
       "      <td>Yes</td>\n",
       "      <td>No</td>\n",
       "      <td>Month-to-month</td>\n",
       "      <td>Yes</td>\n",
       "      <td>Credit card (automatic)</td>\n",
       "      <td>88.15</td>\n",
       "      <td>3973.2</td>\n",
       "      <td>No</td>\n",
       "    </tr>\n",
       "    <tr>\n",
       "      <th>6344</th>\n",
       "      <td>9286-DOJGF</td>\n",
       "      <td>Female</td>\n",
       "      <td>1</td>\n",
       "      <td>Yes</td>\n",
       "      <td>No</td>\n",
       "      <td>38</td>\n",
       "      <td>Yes</td>\n",
       "      <td>Yes</td>\n",
       "      <td>Fiber optic</td>\n",
       "      <td>No</td>\n",
       "      <td>...</td>\n",
       "      <td>No</td>\n",
       "      <td>No</td>\n",
       "      <td>No</td>\n",
       "      <td>No</td>\n",
       "      <td>Month-to-month</td>\n",
       "      <td>Yes</td>\n",
       "      <td>Bank transfer (automatic)</td>\n",
       "      <td>74.95</td>\n",
       "      <td>2869.85</td>\n",
       "      <td>Yes</td>\n",
       "    </tr>\n",
       "    <tr>\n",
       "      <th>6739</th>\n",
       "      <td>6994-KERXL</td>\n",
       "      <td>Male</td>\n",
       "      <td>0</td>\n",
       "      <td>No</td>\n",
       "      <td>No</td>\n",
       "      <td>4</td>\n",
       "      <td>Yes</td>\n",
       "      <td>No</td>\n",
       "      <td>DSL</td>\n",
       "      <td>No</td>\n",
       "      <td>...</td>\n",
       "      <td>No</td>\n",
       "      <td>No</td>\n",
       "      <td>No</td>\n",
       "      <td>Yes</td>\n",
       "      <td>Month-to-month</td>\n",
       "      <td>Yes</td>\n",
       "      <td>Electronic check</td>\n",
       "      <td>55.90</td>\n",
       "      <td>238.5</td>\n",
       "      <td>No</td>\n",
       "    </tr>\n",
       "    <tr>\n",
       "      <th>432</th>\n",
       "      <td>2181-UAESM</td>\n",
       "      <td>Male</td>\n",
       "      <td>0</td>\n",
       "      <td>No</td>\n",
       "      <td>No</td>\n",
       "      <td>2</td>\n",
       "      <td>Yes</td>\n",
       "      <td>No</td>\n",
       "      <td>DSL</td>\n",
       "      <td>Yes</td>\n",
       "      <td>...</td>\n",
       "      <td>Yes</td>\n",
       "      <td>No</td>\n",
       "      <td>No</td>\n",
       "      <td>No</td>\n",
       "      <td>Month-to-month</td>\n",
       "      <td>No</td>\n",
       "      <td>Electronic check</td>\n",
       "      <td>53.45</td>\n",
       "      <td>119.5</td>\n",
       "      <td>No</td>\n",
       "    </tr>\n",
       "  </tbody>\n",
       "</table>\n",
       "<p>5 rows × 21 columns</p>\n",
       "</div>"
      ],
      "text/plain": [
       "      customerID  gender  SeniorCitizen Partner Dependents  tenure  \\\n",
       "1869  7010-BRBUU    Male              0     Yes        Yes      72   \n",
       "4528  9688-YGXVR  Female              0      No         No      44   \n",
       "6344  9286-DOJGF  Female              1     Yes         No      38   \n",
       "6739  6994-KERXL    Male              0      No         No       4   \n",
       "432   2181-UAESM    Male              0      No         No       2   \n",
       "\n",
       "     PhoneService MultipleLines InternetService       OnlineSecurity  ...  \\\n",
       "1869          Yes           Yes              No  No internet service  ...   \n",
       "4528          Yes            No     Fiber optic                   No  ...   \n",
       "6344          Yes           Yes     Fiber optic                   No  ...   \n",
       "6739          Yes            No             DSL                   No  ...   \n",
       "432           Yes            No             DSL                  Yes  ...   \n",
       "\n",
       "         DeviceProtection          TechSupport          StreamingTV  \\\n",
       "1869  No internet service  No internet service  No internet service   \n",
       "4528                  Yes                   No                  Yes   \n",
       "6344                   No                   No                   No   \n",
       "6739                   No                   No                   No   \n",
       "432                   Yes                   No                   No   \n",
       "\n",
       "          StreamingMovies        Contract PaperlessBilling  \\\n",
       "1869  No internet service        Two year               No   \n",
       "4528                   No  Month-to-month              Yes   \n",
       "6344                   No  Month-to-month              Yes   \n",
       "6739                  Yes  Month-to-month              Yes   \n",
       "432                    No  Month-to-month               No   \n",
       "\n",
       "                  PaymentMethod MonthlyCharges  TotalCharges Churn  \n",
       "1869    Credit card (automatic)          24.10       1734.65    No  \n",
       "4528    Credit card (automatic)          88.15        3973.2    No  \n",
       "6344  Bank transfer (automatic)          74.95       2869.85   Yes  \n",
       "6739           Electronic check          55.90         238.5    No  \n",
       "432            Electronic check          53.45         119.5    No  \n",
       "\n",
       "[5 rows x 21 columns]"
      ]
     },
     "execution_count": 2,
     "metadata": {},
     "output_type": "execute_result"
    }
   ],
   "source": [
    "# 제일 왼쪽 열 index 설정. index_col 파라미터 사용\n",
    "tel = pd.read_csv('../input/telecom-users-dataset/telecom_users.csv', index_col=0)\n",
    "tel.head()"
   ]
  },
  {
   "cell_type": "markdown",
   "id": "durable-blind",
   "metadata": {
    "papermill": {
     "duration": 0.026341,
     "end_time": "2021-05-28T14:46:33.077182",
     "exception": false,
     "start_time": "2021-05-28T14:46:33.050841",
     "status": "completed"
    },
    "tags": []
   },
   "source": [
    "### 데이터 구성 파악하기"
   ]
  },
  {
   "cell_type": "code",
   "execution_count": 3,
   "id": "sexual-murray",
   "metadata": {
    "execution": {
     "iopub.execute_input": "2021-05-28T14:46:33.136026Z",
     "iopub.status.busy": "2021-05-28T14:46:33.135230Z",
     "iopub.status.idle": "2021-05-28T14:46:33.139524Z",
     "shell.execute_reply": "2021-05-28T14:46:33.138892Z",
     "shell.execute_reply.started": "2021-05-28T13:44:03.595487Z"
    },
    "papermill": {
     "duration": 0.035855,
     "end_time": "2021-05-28T14:46:33.139683",
     "exception": false,
     "start_time": "2021-05-28T14:46:33.103828",
     "status": "completed"
    },
    "tags": []
   },
   "outputs": [
    {
     "data": {
      "text/plain": [
       "(5986, 21)"
      ]
     },
     "execution_count": 3,
     "metadata": {},
     "output_type": "execute_result"
    }
   ],
   "source": [
    "# tel 데이터셋 크기 \n",
    "tel.shape"
   ]
  },
  {
   "cell_type": "code",
   "execution_count": 4,
   "id": "stuffed-services",
   "metadata": {
    "execution": {
     "iopub.execute_input": "2021-05-28T14:46:33.196999Z",
     "iopub.status.busy": "2021-05-28T14:46:33.196264Z",
     "iopub.status.idle": "2021-05-28T14:46:33.229414Z",
     "shell.execute_reply": "2021-05-28T14:46:33.229965Z",
     "shell.execute_reply.started": "2021-05-28T13:44:07.434791Z"
    },
    "papermill": {
     "duration": 0.063658,
     "end_time": "2021-05-28T14:46:33.230161",
     "exception": false,
     "start_time": "2021-05-28T14:46:33.166503",
     "status": "completed"
    },
    "tags": []
   },
   "outputs": [
    {
     "name": "stdout",
     "output_type": "stream",
     "text": [
      "<class 'pandas.core.frame.DataFrame'>\n",
      "Int64Index: 5986 entries, 1869 to 860\n",
      "Data columns (total 21 columns):\n",
      " #   Column            Non-Null Count  Dtype  \n",
      "---  ------            --------------  -----  \n",
      " 0   customerID        5986 non-null   object \n",
      " 1   gender            5986 non-null   object \n",
      " 2   SeniorCitizen     5986 non-null   int64  \n",
      " 3   Partner           5986 non-null   object \n",
      " 4   Dependents        5986 non-null   object \n",
      " 5   tenure            5986 non-null   int64  \n",
      " 6   PhoneService      5986 non-null   object \n",
      " 7   MultipleLines     5986 non-null   object \n",
      " 8   InternetService   5986 non-null   object \n",
      " 9   OnlineSecurity    5986 non-null   object \n",
      " 10  OnlineBackup      5986 non-null   object \n",
      " 11  DeviceProtection  5986 non-null   object \n",
      " 12  TechSupport       5986 non-null   object \n",
      " 13  StreamingTV       5986 non-null   object \n",
      " 14  StreamingMovies   5986 non-null   object \n",
      " 15  Contract          5986 non-null   object \n",
      " 16  PaperlessBilling  5986 non-null   object \n",
      " 17  PaymentMethod     5986 non-null   object \n",
      " 18  MonthlyCharges    5986 non-null   float64\n",
      " 19  TotalCharges      5986 non-null   object \n",
      " 20  Churn             5986 non-null   object \n",
      "dtypes: float64(1), int64(2), object(18)\n",
      "memory usage: 1.0+ MB\n"
     ]
    }
   ],
   "source": [
    "tel.info()"
   ]
  },
  {
   "cell_type": "code",
   "execution_count": 5,
   "id": "insured-rocket",
   "metadata": {
    "execution": {
     "iopub.execute_input": "2021-05-28T14:46:33.292797Z",
     "iopub.status.busy": "2021-05-28T14:46:33.292073Z",
     "iopub.status.idle": "2021-05-28T14:46:33.310812Z",
     "shell.execute_reply": "2021-05-28T14:46:33.311412Z",
     "shell.execute_reply.started": "2021-05-28T13:44:18.861214Z"
    },
    "papermill": {
     "duration": 0.054039,
     "end_time": "2021-05-28T14:46:33.311590",
     "exception": false,
     "start_time": "2021-05-28T14:46:33.257551",
     "status": "completed"
    },
    "tags": []
   },
   "outputs": [
    {
     "data": {
      "text/html": [
       "<div>\n",
       "<style scoped>\n",
       "    .dataframe tbody tr th:only-of-type {\n",
       "        vertical-align: middle;\n",
       "    }\n",
       "\n",
       "    .dataframe tbody tr th {\n",
       "        vertical-align: top;\n",
       "    }\n",
       "\n",
       "    .dataframe thead th {\n",
       "        text-align: right;\n",
       "    }\n",
       "</style>\n",
       "<table border=\"1\" class=\"dataframe\">\n",
       "  <thead>\n",
       "    <tr style=\"text-align: right;\">\n",
       "      <th></th>\n",
       "      <th>SeniorCitizen</th>\n",
       "      <th>tenure</th>\n",
       "      <th>MonthlyCharges</th>\n",
       "    </tr>\n",
       "  </thead>\n",
       "  <tbody>\n",
       "    <tr>\n",
       "      <th>count</th>\n",
       "      <td>5986.000000</td>\n",
       "      <td>5986.000000</td>\n",
       "      <td>5986.000000</td>\n",
       "    </tr>\n",
       "    <tr>\n",
       "      <th>mean</th>\n",
       "      <td>0.161377</td>\n",
       "      <td>32.468760</td>\n",
       "      <td>64.802213</td>\n",
       "    </tr>\n",
       "    <tr>\n",
       "      <th>std</th>\n",
       "      <td>0.367909</td>\n",
       "      <td>24.516391</td>\n",
       "      <td>30.114702</td>\n",
       "    </tr>\n",
       "    <tr>\n",
       "      <th>min</th>\n",
       "      <td>0.000000</td>\n",
       "      <td>0.000000</td>\n",
       "      <td>18.250000</td>\n",
       "    </tr>\n",
       "    <tr>\n",
       "      <th>25%</th>\n",
       "      <td>0.000000</td>\n",
       "      <td>9.000000</td>\n",
       "      <td>35.650000</td>\n",
       "    </tr>\n",
       "    <tr>\n",
       "      <th>50%</th>\n",
       "      <td>0.000000</td>\n",
       "      <td>29.000000</td>\n",
       "      <td>70.400000</td>\n",
       "    </tr>\n",
       "    <tr>\n",
       "      <th>75%</th>\n",
       "      <td>0.000000</td>\n",
       "      <td>56.000000</td>\n",
       "      <td>89.900000</td>\n",
       "    </tr>\n",
       "    <tr>\n",
       "      <th>max</th>\n",
       "      <td>1.000000</td>\n",
       "      <td>72.000000</td>\n",
       "      <td>118.750000</td>\n",
       "    </tr>\n",
       "  </tbody>\n",
       "</table>\n",
       "</div>"
      ],
      "text/plain": [
       "       SeniorCitizen       tenure  MonthlyCharges\n",
       "count    5986.000000  5986.000000     5986.000000\n",
       "mean        0.161377    32.468760       64.802213\n",
       "std         0.367909    24.516391       30.114702\n",
       "min         0.000000     0.000000       18.250000\n",
       "25%         0.000000     9.000000       35.650000\n",
       "50%         0.000000    29.000000       70.400000\n",
       "75%         0.000000    56.000000       89.900000\n",
       "max         1.000000    72.000000      118.750000"
      ]
     },
     "execution_count": 5,
     "metadata": {},
     "output_type": "execute_result"
    }
   ],
   "source": [
    "tel.describe()"
   ]
  },
  {
   "cell_type": "code",
   "execution_count": 6,
   "id": "nearby-milwaukee",
   "metadata": {
    "execution": {
     "iopub.execute_input": "2021-05-28T14:46:33.371077Z",
     "iopub.status.busy": "2021-05-28T14:46:33.370360Z",
     "iopub.status.idle": "2021-05-28T14:46:33.373495Z",
     "shell.execute_reply": "2021-05-28T14:46:33.374065Z"
    },
    "papermill": {
     "duration": 0.034549,
     "end_time": "2021-05-28T14:46:33.374235",
     "exception": false,
     "start_time": "2021-05-28T14:46:33.339686",
     "status": "completed"
    },
    "tags": []
   },
   "outputs": [],
   "source": [
    "# https://www.kaggle.com/guptakush/telecommunication-data-analysis 참고\n",
    "# value_count(), unique(), isnull(), sum(), nunique()\n"
   ]
  },
  {
   "cell_type": "code",
   "execution_count": 7,
   "id": "painted-values",
   "metadata": {
    "execution": {
     "iopub.execute_input": "2021-05-28T14:46:33.433953Z",
     "iopub.status.busy": "2021-05-28T14:46:33.433256Z",
     "iopub.status.idle": "2021-05-28T14:46:33.436887Z",
     "shell.execute_reply": "2021-05-28T14:46:33.437582Z"
    },
    "papermill": {
     "duration": 0.035363,
     "end_time": "2021-05-28T14:46:33.437789",
     "exception": false,
     "start_time": "2021-05-28T14:46:33.402426",
     "status": "completed"
    },
    "tags": []
   },
   "outputs": [],
   "source": [
    "# distplot, histplot, barplot, pairplot 등으로 데이터 분포 확인\n"
   ]
  },
  {
   "cell_type": "markdown",
   "id": "chubby-passing",
   "metadata": {
    "papermill": {
     "duration": 0.027932,
     "end_time": "2021-05-28T14:46:33.494218",
     "exception": false,
     "start_time": "2021-05-28T14:46:33.466286",
     "status": "completed"
    },
    "tags": []
   },
   "source": [
    "### 데이터 전처리하기"
   ]
  },
  {
   "cell_type": "markdown",
   "id": "medical-credits",
   "metadata": {
    "papermill": {
     "duration": 0.028323,
     "end_time": "2021-05-28T14:46:33.551214",
     "exception": false,
     "start_time": "2021-05-28T14:46:33.522891",
     "status": "completed"
    },
    "tags": []
   },
   "source": [
    "* SeniorCitizen 칼럼값들 int -> str 형변환"
   ]
  },
  {
   "cell_type": "code",
   "execution_count": 8,
   "id": "departmental-shoulder",
   "metadata": {
    "execution": {
     "iopub.execute_input": "2021-05-28T14:46:33.611309Z",
     "iopub.status.busy": "2021-05-28T14:46:33.610652Z",
     "iopub.status.idle": "2021-05-28T14:46:33.648234Z",
     "shell.execute_reply": "2021-05-28T14:46:33.648725Z",
     "shell.execute_reply.started": "2021-05-28T14:27:45.120911Z"
    },
    "papermill": {
     "duration": 0.069357,
     "end_time": "2021-05-28T14:46:33.648903",
     "exception": false,
     "start_time": "2021-05-28T14:46:33.579546",
     "status": "completed"
    },
    "tags": []
   },
   "outputs": [
    {
     "name": "stdout",
     "output_type": "stream",
     "text": [
      "<class 'pandas.core.frame.DataFrame'>\n",
      "Int64Index: 5986 entries, 1869 to 860\n",
      "Data columns (total 21 columns):\n",
      " #   Column            Non-Null Count  Dtype  \n",
      "---  ------            --------------  -----  \n",
      " 0   customerID        5986 non-null   object \n",
      " 1   gender            5986 non-null   object \n",
      " 2   SeniorCitizen     5986 non-null   object \n",
      " 3   Partner           5986 non-null   object \n",
      " 4   Dependents        5986 non-null   object \n",
      " 5   tenure            5986 non-null   int64  \n",
      " 6   PhoneService      5986 non-null   object \n",
      " 7   MultipleLines     5986 non-null   object \n",
      " 8   InternetService   5986 non-null   object \n",
      " 9   OnlineSecurity    5986 non-null   object \n",
      " 10  OnlineBackup      5986 non-null   object \n",
      " 11  DeviceProtection  5986 non-null   object \n",
      " 12  TechSupport       5986 non-null   object \n",
      " 13  StreamingTV       5986 non-null   object \n",
      " 14  StreamingMovies   5986 non-null   object \n",
      " 15  Contract          5986 non-null   object \n",
      " 16  PaperlessBilling  5986 non-null   object \n",
      " 17  PaymentMethod     5986 non-null   object \n",
      " 18  MonthlyCharges    5986 non-null   float64\n",
      " 19  TotalCharges      5986 non-null   object \n",
      " 20  Churn             5986 non-null   object \n",
      "dtypes: float64(1), int64(1), object(19)\n",
      "memory usage: 1.0+ MB\n"
     ]
    }
   ],
   "source": [
    "df = tel\n",
    "df = df.astype({'SeniorCitizen': str})\n",
    "df.info()"
   ]
  },
  {
   "cell_type": "code",
   "execution_count": 9,
   "id": "closing-forestry",
   "metadata": {
    "execution": {
     "iopub.execute_input": "2021-05-28T14:46:33.710917Z",
     "iopub.status.busy": "2021-05-28T14:46:33.709908Z",
     "iopub.status.idle": "2021-05-28T14:46:33.718673Z",
     "shell.execute_reply": "2021-05-28T14:46:33.718149Z",
     "shell.execute_reply.started": "2021-05-28T14:27:48.500121Z"
    },
    "papermill": {
     "duration": 0.041004,
     "end_time": "2021-05-28T14:46:33.718823",
     "exception": false,
     "start_time": "2021-05-28T14:46:33.677819",
     "status": "completed"
    },
    "tags": []
   },
   "outputs": [
    {
     "data": {
      "text/plain": [
       "['customerID',\n",
       " 'gender',\n",
       " 'SeniorCitizen',\n",
       " 'Partner',\n",
       " 'Dependents',\n",
       " 'PhoneService',\n",
       " 'MultipleLines',\n",
       " 'InternetService',\n",
       " 'OnlineSecurity',\n",
       " 'OnlineBackup',\n",
       " 'DeviceProtection',\n",
       " 'TechSupport',\n",
       " 'StreamingTV',\n",
       " 'StreamingMovies',\n",
       " 'Contract',\n",
       " 'PaperlessBilling',\n",
       " 'PaymentMethod',\n",
       " 'TotalCharges',\n",
       " 'Churn']"
      ]
     },
     "execution_count": 9,
     "metadata": {},
     "output_type": "execute_result"
    }
   ],
   "source": [
    "# 자료형이 object인 칼럼들만 추출 \n",
    "cols = list(df.columns)\n",
    "\n",
    "ObjCols = []\n",
    "for i in cols:\n",
    "    if df[i].dtype == object:\n",
    "        ObjCols.append(i)\n",
    "        \n",
    "ObjCols"
   ]
  },
  {
   "cell_type": "code",
   "execution_count": 10,
   "id": "coupled-voluntary",
   "metadata": {
    "execution": {
     "iopub.execute_input": "2021-05-28T14:46:33.783065Z",
     "iopub.status.busy": "2021-05-28T14:46:33.782059Z",
     "iopub.status.idle": "2021-05-28T14:46:33.804123Z",
     "shell.execute_reply": "2021-05-28T14:46:33.803111Z",
     "shell.execute_reply.started": "2021-05-28T14:27:50.551171Z"
    },
    "papermill": {
     "duration": 0.056333,
     "end_time": "2021-05-28T14:46:33.804341",
     "exception": false,
     "start_time": "2021-05-28T14:46:33.748008",
     "status": "completed"
    },
    "tags": []
   },
   "outputs": [
    {
     "name": "stdout",
     "output_type": "stream",
     "text": [
      "customerID\n",
      "['7010-BRBUU' '9688-YGXVR' '9286-DOJGF' ... '8044-BGWPI' '7450-NWRTR'\n",
      " '4795-UXVCJ']\n",
      "\n",
      "gender\n",
      "['Male' 'Female']\n",
      "\n",
      "SeniorCitizen\n",
      "['0' '1']\n",
      "\n",
      "Partner\n",
      "['Yes' 'No']\n",
      "\n",
      "Dependents\n",
      "['Yes' 'No']\n",
      "\n",
      "PhoneService\n",
      "['Yes' 'No']\n",
      "\n",
      "MultipleLines\n",
      "['Yes' 'No' 'No phone service']\n",
      "\n",
      "InternetService\n",
      "['No' 'Fiber optic' 'DSL']\n",
      "\n",
      "OnlineSecurity\n",
      "['No internet service' 'No' 'Yes']\n",
      "\n",
      "OnlineBackup\n",
      "['No internet service' 'Yes' 'No']\n",
      "\n",
      "DeviceProtection\n",
      "['No internet service' 'Yes' 'No']\n",
      "\n",
      "TechSupport\n",
      "['No internet service' 'No' 'Yes']\n",
      "\n",
      "StreamingTV\n",
      "['No internet service' 'Yes' 'No']\n",
      "\n",
      "StreamingMovies\n",
      "['No internet service' 'No' 'Yes']\n",
      "\n",
      "Contract\n",
      "['Two year' 'Month-to-month' 'One year']\n",
      "\n",
      "PaperlessBilling\n",
      "['No' 'Yes']\n",
      "\n",
      "PaymentMethod\n",
      "['Credit card (automatic)' 'Bank transfer (automatic)' 'Electronic check'\n",
      " 'Mailed check']\n",
      "\n",
      "TotalCharges\n",
      "['1734.65' '3973.2' '2869.85' ... '306.05' '1200.15' '457.3']\n",
      "\n",
      "Churn\n",
      "['No' 'Yes']\n",
      "\n"
     ]
    }
   ],
   "source": [
    "# 자료형이 object인 칼럼들의 unique value 파악하기\n",
    "for i in ObjCols:\n",
    "    print(i)\n",
    "    print(df[i].unique())\n",
    "    print()"
   ]
  },
  {
   "cell_type": "markdown",
   "id": "bigger-species",
   "metadata": {
    "papermill": {
     "duration": 0.029414,
     "end_time": "2021-05-28T14:46:33.864662",
     "exception": false,
     "start_time": "2021-05-28T14:46:33.835248",
     "status": "completed"
    },
    "tags": []
   },
   "source": [
    "* Contract 칼럼 데이터 간소하게 아래와 같이 변경\n",
    "```\n",
    "'Two year' -> TY\n",
    "'Month-to-month' -> MM\n",
    "'One year' -> OY\n",
    "```"
   ]
  },
  {
   "cell_type": "code",
   "execution_count": 11,
   "id": "military-conjunction",
   "metadata": {
    "execution": {
     "iopub.execute_input": "2021-05-28T14:46:33.934223Z",
     "iopub.status.busy": "2021-05-28T14:46:33.929206Z",
     "iopub.status.idle": "2021-05-28T14:46:33.939018Z",
     "shell.execute_reply": "2021-05-28T14:46:33.938436Z",
     "shell.execute_reply.started": "2021-05-28T14:38:18.339277Z"
    },
    "papermill": {
     "duration": 0.044781,
     "end_time": "2021-05-28T14:46:33.939168",
     "exception": false,
     "start_time": "2021-05-28T14:46:33.894387",
     "status": "completed"
    },
    "tags": []
   },
   "outputs": [
    {
     "data": {
      "text/plain": [
       "array(['TY', 'MM', 'OY'], dtype=object)"
      ]
     },
     "execution_count": 11,
     "metadata": {},
     "output_type": "execute_result"
    }
   ],
   "source": [
    "df['Contract'] = df['Contract'].replace('Two year', 'TY')\n",
    "df['Contract'] = df['Contract'].replace('Month-to-month', 'MM')\n",
    "df['Contract'] = df['Contract'].replace('One year', 'OY')\n",
    "df['Contract'].unique()"
   ]
  },
  {
   "cell_type": "markdown",
   "id": "italic-radius",
   "metadata": {
    "papermill": {
     "duration": 0.028979,
     "end_time": "2021-05-28T14:46:33.997838",
     "exception": false,
     "start_time": "2021-05-28T14:46:33.968859",
     "status": "completed"
    },
    "tags": []
   },
   "source": [
    "* PaymentMethod 칼럼 데이터 간소하게 아래와 같이 변경 \n",
    "```\n",
    "'Credit card (automatic)' -> CC\n",
    "'Bank transfer (automatic)' -> BT\n",
    "'Electronic check' -> EC\n",
    "'Mailed check' -> MC\n",
    "```"
   ]
  },
  {
   "cell_type": "code",
   "execution_count": 12,
   "id": "alpha-pathology",
   "metadata": {
    "execution": {
     "iopub.execute_input": "2021-05-28T14:46:34.071318Z",
     "iopub.status.busy": "2021-05-28T14:46:34.070275Z",
     "iopub.status.idle": "2021-05-28T14:46:34.075192Z",
     "shell.execute_reply": "2021-05-28T14:46:34.074613Z",
     "shell.execute_reply.started": "2021-05-28T14:33:57.458689Z"
    },
    "papermill": {
     "duration": 0.048206,
     "end_time": "2021-05-28T14:46:34.075335",
     "exception": false,
     "start_time": "2021-05-28T14:46:34.027129",
     "status": "completed"
    },
    "tags": []
   },
   "outputs": [
    {
     "data": {
      "text/plain": [
       "array(['CC', 'BT', 'EC', 'MT'], dtype=object)"
      ]
     },
     "execution_count": 12,
     "metadata": {},
     "output_type": "execute_result"
    }
   ],
   "source": [
    "df['PaymentMethod'] = df['PaymentMethod'].replace('Credit card (automatic)', 'CC')\n",
    "df['PaymentMethod'] = df['PaymentMethod'].replace('Bank transfer (automatic)', 'BT')\n",
    "df['PaymentMethod'] = df['PaymentMethod'].replace('Electronic check', 'EC')\n",
    "df['PaymentMethod'] = df['PaymentMethod'].replace('Mailed check', 'MT')\n",
    "df['PaymentMethod'].unique()"
   ]
  },
  {
   "cell_type": "code",
   "execution_count": null,
   "id": "adaptive-compact",
   "metadata": {
    "papermill": {
     "duration": 0.029576,
     "end_time": "2021-05-28T14:46:34.134944",
     "exception": false,
     "start_time": "2021-05-28T14:46:34.105368",
     "status": "completed"
    },
    "tags": []
   },
   "outputs": [],
   "source": []
  },
  {
   "cell_type": "markdown",
   "id": "great-contact",
   "metadata": {
    "papermill": {
     "duration": 0.029631,
     "end_time": "2021-05-28T14:46:34.194684",
     "exception": false,
     "start_time": "2021-05-28T14:46:34.165053",
     "status": "completed"
    },
    "tags": []
   },
   "source": [
    "## 정의한 문제 해결하기"
   ]
  },
  {
   "cell_type": "markdown",
   "id": "dietary-banner",
   "metadata": {
    "papermill": {
     "duration": 0.029422,
     "end_time": "2021-05-28T14:46:34.254125",
     "exception": false,
     "start_time": "2021-05-28T14:46:34.224703",
     "status": "completed"
    },
    "tags": []
   },
   "source": [
    "### 문제 1-4 해결하기\n",
    "* df1~df4 사용"
   ]
  },
  {
   "cell_type": "code",
   "execution_count": null,
   "id": "intended-administrator",
   "metadata": {
    "papermill": {
     "duration": 0.029463,
     "end_time": "2021-05-28T14:46:34.313524",
     "exception": false,
     "start_time": "2021-05-28T14:46:34.284061",
     "status": "completed"
    },
    "tags": []
   },
   "outputs": [],
   "source": []
  },
  {
   "cell_type": "code",
   "execution_count": null,
   "id": "academic-valuable",
   "metadata": {
    "papermill": {
     "duration": 0.029618,
     "end_time": "2021-05-28T14:46:34.373113",
     "exception": false,
     "start_time": "2021-05-28T14:46:34.343495",
     "status": "completed"
    },
    "tags": []
   },
   "outputs": [],
   "source": []
  },
  {
   "cell_type": "code",
   "execution_count": null,
   "id": "official-bulgaria",
   "metadata": {
    "papermill": {
     "duration": 0.02949,
     "end_time": "2021-05-28T14:46:34.432623",
     "exception": false,
     "start_time": "2021-05-28T14:46:34.403133",
     "status": "completed"
    },
    "tags": []
   },
   "outputs": [],
   "source": []
  },
  {
   "cell_type": "code",
   "execution_count": null,
   "id": "logical-attitude",
   "metadata": {
    "papermill": {
     "duration": 0.029648,
     "end_time": "2021-05-28T14:46:34.492681",
     "exception": false,
     "start_time": "2021-05-28T14:46:34.463033",
     "status": "completed"
    },
    "tags": []
   },
   "outputs": [],
   "source": []
  },
  {
   "cell_type": "markdown",
   "id": "violent-mistress",
   "metadata": {
    "papermill": {
     "duration": 0.029656,
     "end_time": "2021-05-28T14:46:34.552375",
     "exception": false,
     "start_time": "2021-05-28T14:46:34.522719",
     "status": "completed"
    },
    "tags": []
   },
   "source": [
    "### 문제 5-8 해결하기\n",
    "* df5~df8 사용"
   ]
  },
  {
   "cell_type": "code",
   "execution_count": null,
   "id": "bottom-apollo",
   "metadata": {
    "papermill": {
     "duration": 0.029574,
     "end_time": "2021-05-28T14:46:34.611811",
     "exception": false,
     "start_time": "2021-05-28T14:46:34.582237",
     "status": "completed"
    },
    "tags": []
   },
   "outputs": [],
   "source": []
  },
  {
   "cell_type": "code",
   "execution_count": null,
   "id": "above-steps",
   "metadata": {
    "papermill": {
     "duration": 0.029491,
     "end_time": "2021-05-28T14:46:34.671209",
     "exception": false,
     "start_time": "2021-05-28T14:46:34.641718",
     "status": "completed"
    },
    "tags": []
   },
   "outputs": [],
   "source": []
  },
  {
   "cell_type": "code",
   "execution_count": null,
   "id": "applicable-antarctica",
   "metadata": {
    "papermill": {
     "duration": 0.030021,
     "end_time": "2021-05-28T14:46:34.731060",
     "exception": false,
     "start_time": "2021-05-28T14:46:34.701039",
     "status": "completed"
    },
    "tags": []
   },
   "outputs": [],
   "source": []
  },
  {
   "cell_type": "code",
   "execution_count": null,
   "id": "conservative-finder",
   "metadata": {
    "papermill": {
     "duration": 0.030177,
     "end_time": "2021-05-28T14:46:34.791154",
     "exception": false,
     "start_time": "2021-05-28T14:46:34.760977",
     "status": "completed"
    },
    "tags": []
   },
   "outputs": [],
   "source": []
  },
  {
   "cell_type": "code",
   "execution_count": null,
   "id": "adaptive-premiere",
   "metadata": {
    "papermill": {
     "duration": 0.029353,
     "end_time": "2021-05-28T14:46:34.850429",
     "exception": false,
     "start_time": "2021-05-28T14:46:34.821076",
     "status": "completed"
    },
    "tags": []
   },
   "outputs": [],
   "source": []
  },
  {
   "cell_type": "markdown",
   "id": "critical-makeup",
   "metadata": {
    "papermill": {
     "duration": 0.029316,
     "end_time": "2021-05-28T14:46:34.909284",
     "exception": false,
     "start_time": "2021-05-28T14:46:34.879968",
     "status": "completed"
    },
    "tags": []
   },
   "source": [
    "### 문제 9 해결하기\n",
    "* df9 사용\n",
    "* 머신러닝 모델 성능비교하기"
   ]
  },
  {
   "cell_type": "code",
   "execution_count": null,
   "id": "indoor-import",
   "metadata": {
    "papermill": {
     "duration": 0.029483,
     "end_time": "2021-05-28T14:46:34.969300",
     "exception": false,
     "start_time": "2021-05-28T14:46:34.939817",
     "status": "completed"
    },
    "tags": []
   },
   "outputs": [],
   "source": []
  },
  {
   "cell_type": "code",
   "execution_count": null,
   "id": "romantic-frederick",
   "metadata": {
    "papermill": {
     "duration": 0.029205,
     "end_time": "2021-05-28T14:46:35.028058",
     "exception": false,
     "start_time": "2021-05-28T14:46:34.998853",
     "status": "completed"
    },
    "tags": []
   },
   "outputs": [],
   "source": []
  },
  {
   "cell_type": "code",
   "execution_count": null,
   "id": "saved-greece",
   "metadata": {
    "papermill": {
     "duration": 0.030511,
     "end_time": "2021-05-28T14:46:35.088497",
     "exception": false,
     "start_time": "2021-05-28T14:46:35.057986",
     "status": "completed"
    },
    "tags": []
   },
   "outputs": [],
   "source": []
  },
  {
   "cell_type": "code",
   "execution_count": null,
   "id": "flexible-firewall",
   "metadata": {
    "papermill": {
     "duration": 0.029434,
     "end_time": "2021-05-28T14:46:35.148436",
     "exception": false,
     "start_time": "2021-05-28T14:46:35.119002",
     "status": "completed"
    },
    "tags": []
   },
   "outputs": [],
   "source": []
  },
  {
   "cell_type": "markdown",
   "id": "judicial-judge",
   "metadata": {
    "papermill": {
     "duration": 0.029957,
     "end_time": "2021-05-28T14:46:35.208233",
     "exception": false,
     "start_time": "2021-05-28T14:46:35.178276",
     "status": "completed"
    },
    "tags": []
   },
   "source": [
    "### 결론"
   ]
  },
  {
   "cell_type": "code",
   "execution_count": null,
   "id": "acute-portsmouth",
   "metadata": {
    "papermill": {
     "duration": 0.0295,
     "end_time": "2021-05-28T14:46:35.267857",
     "exception": false,
     "start_time": "2021-05-28T14:46:35.238357",
     "status": "completed"
    },
    "tags": []
   },
   "outputs": [],
   "source": []
  },
  {
   "cell_type": "code",
   "execution_count": null,
   "id": "static-crash",
   "metadata": {
    "papermill": {
     "duration": 0.029199,
     "end_time": "2021-05-28T14:46:35.327027",
     "exception": false,
     "start_time": "2021-05-28T14:46:35.297828",
     "status": "completed"
    },
    "tags": []
   },
   "outputs": [],
   "source": []
  },
  {
   "cell_type": "code",
   "execution_count": null,
   "id": "ruled-advocacy",
   "metadata": {
    "papermill": {
     "duration": 0.029454,
     "end_time": "2021-05-28T14:46:35.387033",
     "exception": false,
     "start_time": "2021-05-28T14:46:35.357579",
     "status": "completed"
    },
    "tags": []
   },
   "outputs": [],
   "source": []
  }
 ],
 "metadata": {
  "kernelspec": {
   "display_name": "Python 3",
   "language": "python",
   "name": "python3"
  },
  "language_info": {
   "codemirror_mode": {
    "name": "ipython",
    "version": 3
   },
   "file_extension": ".py",
   "mimetype": "text/x-python",
   "name": "python",
   "nbconvert_exporter": "python",
   "pygments_lexer": "ipython3",
   "version": "3.7.10"
  },
  "papermill": {
   "default_parameters": {},
   "duration": 12.911963,
   "end_time": "2021-05-28T14:46:37.059244",
   "environment_variables": {},
   "exception": null,
   "input_path": "__notebook__.ipynb",
   "output_path": "__notebook__.ipynb",
   "parameters": {},
   "start_time": "2021-05-28T14:46:24.147281",
   "version": "2.3.3"
  }
 },
 "nbformat": 4,
 "nbformat_minor": 5
}
